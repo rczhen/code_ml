{
  "nbformat": 4,
  "nbformat_minor": 0,
  "metadata": {
    "colab": {
      "provenance": [],
      "toc_visible": true,
      "authorship_tag": "ABX9TyOEIt7pqKnEaspNpWoJnkZC",
      "include_colab_link": true
    },
    "kernelspec": {
      "name": "python3",
      "display_name": "Python 3"
    },
    "language_info": {
      "name": "python"
    }
  },
  "cells": [
    {
      "cell_type": "markdown",
      "metadata": {
        "id": "view-in-github",
        "colab_type": "text"
      },
      "source": [
        "<a href=\"https://colab.research.google.com/github/rczhen/code_ml/blob/main/gpt_dev_notes.ipynb\" target=\"_parent\"><img src=\"https://colab.research.google.com/assets/colab-badge.svg\" alt=\"Open In Colab\"/></a>"
      ]
    },
    {
      "cell_type": "markdown",
      "source": [
        "# Play with Karpathy's lecture\n",
        "\n",
        "https://www.youtube.com/watch?v=kCc8FmEb1nY&t=5425s&ab_channel=AndrejKarpathy\n",
        "\n",
        "https://github.com/karpathy/ng-video-lecture/\n",
        "\n",
        "https://github.com/karpathy/nanoGPT"
      ],
      "metadata": {
        "id": "dQaGFFQEaE7j"
      }
    },
    {
      "cell_type": "code",
      "source": [
        "import torch\n",
        "import numpy as np\n",
        "import torch.nn as nn\n",
        "from torch.nn import functional as F"
      ],
      "metadata": {
        "id": "P7U5PfsFZeWc"
      },
      "execution_count": 72,
      "outputs": []
    },
    {
      "cell_type": "markdown",
      "source": [
        "## Data loading, Tokenizer"
      ],
      "metadata": {
        "id": "_Fwk3QmoITXi"
      }
    },
    {
      "cell_type": "code",
      "execution_count": 73,
      "metadata": {
        "colab": {
          "base_uri": "https://localhost:8080/"
        },
        "id": "-KWZPHMB1viK",
        "outputId": "b6ab1eee-ca8a-489b-9d60-e6954c35d6b5"
      },
      "outputs": [
        {
          "output_type": "stream",
          "name": "stdout",
          "text": [
            "--2024-04-08 08:04:15--  https://raw.githubusercontent.com/karpathy/char-rnn/master/data/tinyshakespeare/input.txt\n",
            "Resolving raw.githubusercontent.com (raw.githubusercontent.com)... 185.199.108.133, 185.199.109.133, 185.199.110.133, ...\n",
            "Connecting to raw.githubusercontent.com (raw.githubusercontent.com)|185.199.108.133|:443... connected.\n",
            "HTTP request sent, awaiting response... 200 OK\n",
            "Length: 1115394 (1.1M) [text/plain]\n",
            "Saving to: ‘input.txt.1’\n",
            "\n",
            "\rinput.txt.1           0%[                    ]       0  --.-KB/s               \rinput.txt.1         100%[===================>]   1.06M  --.-KB/s    in 0.08s   \n",
            "\n",
            "2024-04-08 08:04:15 (14.1 MB/s) - ‘input.txt.1’ saved [1115394/1115394]\n",
            "\n"
          ]
        }
      ],
      "source": [
        "# We always start with a dataset to train on. Let's download the tiny shakespeare dataset\n",
        "!wget https://raw.githubusercontent.com/karpathy/char-rnn/master/data/tinyshakespeare/input.txt"
      ]
    },
    {
      "cell_type": "code",
      "source": [
        "# read it in to inspect it\n",
        "with open('input.txt', 'r', encoding='utf-8') as f:\n",
        "    text = f.read()"
      ],
      "metadata": {
        "id": "pvKc0uP92Rqm"
      },
      "execution_count": 74,
      "outputs": []
    },
    {
      "cell_type": "code",
      "source": [
        "print(\"length of dataset in characters: \", len(text))"
      ],
      "metadata": {
        "colab": {
          "base_uri": "https://localhost:8080/"
        },
        "id": "hnHSiggM2eS3",
        "outputId": "1b03f69c-8187-42f9-98fc-cf22d204ffb7"
      },
      "execution_count": 75,
      "outputs": [
        {
          "output_type": "stream",
          "name": "stdout",
          "text": [
            "length of dataset in characters:  1115394\n"
          ]
        }
      ]
    },
    {
      "cell_type": "code",
      "source": [
        "# let's look at the first 1000 characters\n",
        "print(text[:1000])"
      ],
      "metadata": {
        "colab": {
          "base_uri": "https://localhost:8080/"
        },
        "id": "3aPDYH8t2gKC",
        "outputId": "81fd4f35-99d3-4ffb-d6a9-61f0df9577be"
      },
      "execution_count": 76,
      "outputs": [
        {
          "output_type": "stream",
          "name": "stdout",
          "text": [
            "First Citizen:\n",
            "Before we proceed any further, hear me speak.\n",
            "\n",
            "All:\n",
            "Speak, speak.\n",
            "\n",
            "First Citizen:\n",
            "You are all resolved rather to die than to famish?\n",
            "\n",
            "All:\n",
            "Resolved. resolved.\n",
            "\n",
            "First Citizen:\n",
            "First, you know Caius Marcius is chief enemy to the people.\n",
            "\n",
            "All:\n",
            "We know't, we know't.\n",
            "\n",
            "First Citizen:\n",
            "Let us kill him, and we'll have corn at our own price.\n",
            "Is't a verdict?\n",
            "\n",
            "All:\n",
            "No more talking on't; let it be done: away, away!\n",
            "\n",
            "Second Citizen:\n",
            "One word, good citizens.\n",
            "\n",
            "First Citizen:\n",
            "We are accounted poor citizens, the patricians good.\n",
            "What authority surfeits on would relieve us: if they\n",
            "would yield us but the superfluity, while it were\n",
            "wholesome, we might guess they relieved us humanely;\n",
            "but they think we are too dear: the leanness that\n",
            "afflicts us, the object of our misery, is as an\n",
            "inventory to particularise their abundance; our\n",
            "sufferance is a gain to them Let us revenge this with\n",
            "our pikes, ere we become rakes: for the gods know I\n",
            "speak this in hunger for bread, not in thirst for revenge.\n",
            "\n",
            "\n"
          ]
        }
      ]
    },
    {
      "cell_type": "code",
      "source": [
        "# here are all the unique characters that occur in this text\n",
        "chars = sorted(list(set(text)))\n",
        "vocab_size = len(chars)\n",
        "print(''.join(chars))\n",
        "print(vocab_size)"
      ],
      "metadata": {
        "colab": {
          "base_uri": "https://localhost:8080/"
        },
        "id": "DgOa6ybu2hv_",
        "outputId": "18332dc2-a640-4a0b-854e-4d868be832ee"
      },
      "execution_count": 77,
      "outputs": [
        {
          "output_type": "stream",
          "name": "stdout",
          "text": [
            "\n",
            " !$&',-.3:;?ABCDEFGHIJKLMNOPQRSTUVWXYZabcdefghijklmnopqrstuvwxyz\n",
            "65\n"
          ]
        }
      ]
    },
    {
      "cell_type": "code",
      "source": [
        "# create a mapping from characters to integers\n",
        "stoi = { ch:i for i,ch in enumerate(chars) }\n",
        "itos = { i:ch for i,ch in enumerate(chars) }\n",
        "encode = lambda s: [stoi[c] for c in s] # encoder: take a string, output a list of integers\n",
        "decode = lambda l: ''.join([itos[i] for i in l]) # decoder: take a list of integers, output a string\n",
        "\n",
        "print(encode(\"hii there\"))\n",
        "print(decode(encode(\"hii there\")))"
      ],
      "metadata": {
        "colab": {
          "base_uri": "https://localhost:8080/"
        },
        "id": "SvOcTmUK3sHM",
        "outputId": "ad076afe-4085-4d8a-a5aa-cbb98cf04f8a"
      },
      "execution_count": 78,
      "outputs": [
        {
          "output_type": "stream",
          "name": "stdout",
          "text": [
            "[46, 47, 47, 1, 58, 46, 43, 56, 43]\n",
            "hii there\n"
          ]
        }
      ]
    },
    {
      "cell_type": "markdown",
      "source": [
        "Practical tokenizers:\n",
        "\n",
        "https://github.com/google/sentencepiece BERT\n",
        "\n",
        "https://github.com/openai/tiktoken Open AI models"
      ],
      "metadata": {
        "id": "0EF0I6Jp4nVU"
      }
    },
    {
      "cell_type": "code",
      "source": [
        "!pip install tiktoken\n",
        "import tiktoken\n",
        "\n",
        "encoder = tiktoken.get_encoding('gpt2')\n",
        "print(encoder.n_vocab)\n",
        "print(encoder.encode('hii there'))\n",
        "print(encoder.decode([71, 4178, 612]))"
      ],
      "metadata": {
        "colab": {
          "base_uri": "https://localhost:8080/"
        },
        "id": "clUvN29H4Gbj",
        "outputId": "ec0f4a92-16a1-4688-dd3c-14e689143d86"
      },
      "execution_count": 79,
      "outputs": [
        {
          "output_type": "stream",
          "name": "stdout",
          "text": [
            "Requirement already satisfied: tiktoken in /usr/local/lib/python3.10/dist-packages (0.6.0)\n",
            "Requirement already satisfied: regex>=2022.1.18 in /usr/local/lib/python3.10/dist-packages (from tiktoken) (2023.12.25)\n",
            "Requirement already satisfied: requests>=2.26.0 in /usr/local/lib/python3.10/dist-packages (from tiktoken) (2.31.0)\n",
            "Requirement already satisfied: charset-normalizer<4,>=2 in /usr/local/lib/python3.10/dist-packages (from requests>=2.26.0->tiktoken) (3.3.2)\n",
            "Requirement already satisfied: idna<4,>=2.5 in /usr/local/lib/python3.10/dist-packages (from requests>=2.26.0->tiktoken) (3.6)\n",
            "Requirement already satisfied: urllib3<3,>=1.21.1 in /usr/local/lib/python3.10/dist-packages (from requests>=2.26.0->tiktoken) (2.0.7)\n",
            "Requirement already satisfied: certifi>=2017.4.17 in /usr/local/lib/python3.10/dist-packages (from requests>=2.26.0->tiktoken) (2024.2.2)\n",
            "50257\n",
            "[71, 4178, 612]\n",
            "hii there\n"
          ]
        }
      ]
    },
    {
      "cell_type": "code",
      "source": [
        "# let's now encode the entire text dataset and store it into a torch.Tensor\n",
        "import torch\n",
        "data = torch.tensor(encode(text), dtype=torch.long)\n",
        "print(data.shape, data.dtype)\n",
        "print(data[:200]) # the 200 characters we looked at earier will to the GPT look like this"
      ],
      "metadata": {
        "colab": {
          "base_uri": "https://localhost:8080/"
        },
        "id": "ZaUgKogo5I1p",
        "outputId": "4153fcec-3bfd-48e5-8d58-9287c981a5bf"
      },
      "execution_count": 80,
      "outputs": [
        {
          "output_type": "stream",
          "name": "stdout",
          "text": [
            "torch.Size([1115394]) torch.int64\n",
            "tensor([18, 47, 56, 57, 58,  1, 15, 47, 58, 47, 64, 43, 52, 10,  0, 14, 43, 44,\n",
            "        53, 56, 43,  1, 61, 43,  1, 54, 56, 53, 41, 43, 43, 42,  1, 39, 52, 63,\n",
            "         1, 44, 59, 56, 58, 46, 43, 56,  6,  1, 46, 43, 39, 56,  1, 51, 43,  1,\n",
            "        57, 54, 43, 39, 49,  8,  0,  0, 13, 50, 50, 10,  0, 31, 54, 43, 39, 49,\n",
            "         6,  1, 57, 54, 43, 39, 49,  8,  0,  0, 18, 47, 56, 57, 58,  1, 15, 47,\n",
            "        58, 47, 64, 43, 52, 10,  0, 37, 53, 59,  1, 39, 56, 43,  1, 39, 50, 50,\n",
            "         1, 56, 43, 57, 53, 50, 60, 43, 42,  1, 56, 39, 58, 46, 43, 56,  1, 58,\n",
            "        53,  1, 42, 47, 43,  1, 58, 46, 39, 52,  1, 58, 53,  1, 44, 39, 51, 47,\n",
            "        57, 46, 12,  0,  0, 13, 50, 50, 10,  0, 30, 43, 57, 53, 50, 60, 43, 42,\n",
            "         8,  1, 56, 43, 57, 53, 50, 60, 43, 42,  8,  0,  0, 18, 47, 56, 57, 58,\n",
            "         1, 15, 47, 58, 47, 64, 43, 52, 10,  0, 18, 47, 56, 57, 58,  6,  1, 63,\n",
            "        53, 59])\n"
          ]
        }
      ]
    },
    {
      "cell_type": "code",
      "source": [
        "# Let's now split up the data into train and validation sets\n",
        "n = int(0.9 * len(data)) # first 90% will be train, rest val\n",
        "train_data = data[:n]\n",
        "val_data = data[n:]"
      ],
      "metadata": {
        "id": "Joixy5oa7Bza"
      },
      "execution_count": 81,
      "outputs": []
    },
    {
      "cell_type": "code",
      "source": [
        "block_size = 8\n",
        "train_data[:block_size + 1]"
      ],
      "metadata": {
        "colab": {
          "base_uri": "https://localhost:8080/"
        },
        "id": "hGyZVvRK7MzD",
        "outputId": "dffd2e59-67fe-4b91-a387-f7b270f4e9d5"
      },
      "execution_count": 82,
      "outputs": [
        {
          "output_type": "execute_result",
          "data": {
            "text/plain": [
              "tensor([18, 47, 56, 57, 58,  1, 15, 47, 58])"
            ]
          },
          "metadata": {},
          "execution_count": 82
        }
      ]
    },
    {
      "cell_type": "code",
      "source": [
        "# predict next时，最多看 block_size 个input。during training, let the model see input size from 1 to block_size\n",
        "x = train_data[:block_size]\n",
        "y = train_data[1:block_size+1]\n",
        "for t in range(block_size):\n",
        "    context = x[:t+1]\n",
        "    target = y[t]\n",
        "    print(f\"when input is {context} the target: {target}\")"
      ],
      "metadata": {
        "colab": {
          "base_uri": "https://localhost:8080/"
        },
        "id": "8-xUlqjI8g--",
        "outputId": "e6e5cdd2-02a8-4508-d6c7-a5016a173cc4"
      },
      "execution_count": 83,
      "outputs": [
        {
          "output_type": "stream",
          "name": "stdout",
          "text": [
            "when input is tensor([18]) the target: 47\n",
            "when input is tensor([18, 47]) the target: 56\n",
            "when input is tensor([18, 47, 56]) the target: 57\n",
            "when input is tensor([18, 47, 56, 57]) the target: 58\n",
            "when input is tensor([18, 47, 56, 57, 58]) the target: 1\n",
            "when input is tensor([18, 47, 56, 57, 58,  1]) the target: 15\n",
            "when input is tensor([18, 47, 56, 57, 58,  1, 15]) the target: 47\n",
            "when input is tensor([18, 47, 56, 57, 58,  1, 15, 47]) the target: 58\n"
          ]
        }
      ]
    },
    {
      "cell_type": "code",
      "source": [
        "torch.manual_seed(1337)\n",
        "batch_size = 4 # how many independent sequences will we process in parallel?\n",
        "block_size = 8 # what is the maximum context length for predictions?\n",
        "\n",
        "def get_batch(split):\n",
        "    # generate a small batch of data of inputs x and targets y\n",
        "    data = train_data if split == 'train' else val_data\n",
        "\n",
        "    # get a [batch_size, block_size data]\n",
        "    ix = torch.randint(len(data) - block_size, (batch_size,))\n",
        "    x = torch.stack([data[i:i+block_size] for i in ix])\n",
        "    y = torch.stack([data[i+1:i+block_size+1] for i in ix])\n",
        "    return x, y\n",
        "\n",
        "xb, yb = get_batch('train')\n",
        "print('inputs:')\n",
        "print(xb.shape)\n",
        "print(xb)\n",
        "print('targets:')\n",
        "print(yb.shape)\n",
        "print(yb)\n",
        "\n",
        "print('----')\n",
        "\n",
        "for b in range(batch_size): # batch dimension\n",
        "    for t in range(block_size): # time dimension\n",
        "        context = xb[b, :t+1]\n",
        "        target = yb[b,t]\n",
        "        print(f\"when input is {context.tolist()} the target: {target}\")"
      ],
      "metadata": {
        "colab": {
          "base_uri": "https://localhost:8080/"
        },
        "id": "Kuf5lyOY8jeP",
        "outputId": "b0ea8dd3-2ba7-4061-c173-a62d70edef45"
      },
      "execution_count": 84,
      "outputs": [
        {
          "output_type": "stream",
          "name": "stdout",
          "text": [
            "inputs:\n",
            "torch.Size([4, 8])\n",
            "tensor([[24, 43, 58,  5, 57,  1, 46, 43],\n",
            "        [44, 53, 56,  1, 58, 46, 39, 58],\n",
            "        [52, 58,  1, 58, 46, 39, 58,  1],\n",
            "        [25, 17, 27, 10,  0, 21,  1, 54]])\n",
            "targets:\n",
            "torch.Size([4, 8])\n",
            "tensor([[43, 58,  5, 57,  1, 46, 43, 39],\n",
            "        [53, 56,  1, 58, 46, 39, 58,  1],\n",
            "        [58,  1, 58, 46, 39, 58,  1, 46],\n",
            "        [17, 27, 10,  0, 21,  1, 54, 39]])\n",
            "----\n",
            "when input is [24] the target: 43\n",
            "when input is [24, 43] the target: 58\n",
            "when input is [24, 43, 58] the target: 5\n",
            "when input is [24, 43, 58, 5] the target: 57\n",
            "when input is [24, 43, 58, 5, 57] the target: 1\n",
            "when input is [24, 43, 58, 5, 57, 1] the target: 46\n",
            "when input is [24, 43, 58, 5, 57, 1, 46] the target: 43\n",
            "when input is [24, 43, 58, 5, 57, 1, 46, 43] the target: 39\n",
            "when input is [44] the target: 53\n",
            "when input is [44, 53] the target: 56\n",
            "when input is [44, 53, 56] the target: 1\n",
            "when input is [44, 53, 56, 1] the target: 58\n",
            "when input is [44, 53, 56, 1, 58] the target: 46\n",
            "when input is [44, 53, 56, 1, 58, 46] the target: 39\n",
            "when input is [44, 53, 56, 1, 58, 46, 39] the target: 58\n",
            "when input is [44, 53, 56, 1, 58, 46, 39, 58] the target: 1\n",
            "when input is [52] the target: 58\n",
            "when input is [52, 58] the target: 1\n",
            "when input is [52, 58, 1] the target: 58\n",
            "when input is [52, 58, 1, 58] the target: 46\n",
            "when input is [52, 58, 1, 58, 46] the target: 39\n",
            "when input is [52, 58, 1, 58, 46, 39] the target: 58\n",
            "when input is [52, 58, 1, 58, 46, 39, 58] the target: 1\n",
            "when input is [52, 58, 1, 58, 46, 39, 58, 1] the target: 46\n",
            "when input is [25] the target: 17\n",
            "when input is [25, 17] the target: 27\n",
            "when input is [25, 17, 27] the target: 10\n",
            "when input is [25, 17, 27, 10] the target: 0\n",
            "when input is [25, 17, 27, 10, 0] the target: 21\n",
            "when input is [25, 17, 27, 10, 0, 21] the target: 1\n",
            "when input is [25, 17, 27, 10, 0, 21, 1] the target: 54\n",
            "when input is [25, 17, 27, 10, 0, 21, 1, 54] the target: 39\n"
          ]
        }
      ]
    },
    {
      "cell_type": "markdown",
      "source": [
        "## Model v1, simple baseline embedding dim == num of classes"
      ],
      "metadata": {
        "id": "9nzWghi6IZY5"
      }
    },
    {
      "cell_type": "code",
      "source": [
        "import torch\n",
        "import torch.nn as nn\n",
        "from torch.nn import functional as F\n",
        "torch.manual_seed(1337)\n",
        "\n",
        "class BigramLanguageModel(nn.Module):\n",
        "    # a model predicting next token only based on itself\n",
        "\n",
        "    def __init__(self, vocab_size):\n",
        "        super().__init__()\n",
        "\n",
        "        # each token directly reads off the logits for the next token from a lookup table\n",
        "        # 这样设计embedding，是专门为这个，只看自己，预测下一个的baseline model准备的。\n",
        "        # vocab_size = 65，embedding_dim = 65，对每个token，embedding的含义可理解为，当前token的下一个token为所有token的probability\n",
        "        # 所以loss才能直接用cross_entropy(embedding, target)算\n",
        "\n",
        "        # Input: Shape (C), (N,C)\n",
        "        # Target: If containing class indices, shape (), (N)\n",
        "        # where C = number of classes, N = batch size\n",
        "\n",
        "        self.token_embedding_table = nn.Embedding(vocab_size, vocab_size) # (num_embeddings, embedding_dim)\n",
        "\n",
        "    def forward(self, idx, targets=None):\n",
        "\n",
        "        # idx and targets are both (B,T) tensor of integers\n",
        "        # B*T: for each sample in batch, make it T samples, with input context of length 1, T.\n",
        "        # as a baseline, only look at itself, i.e. predict 1 to T-1 based on 0 to T\n",
        "        # B: batch, batch_size = 4\n",
        "        # T: time, context length = 8\n",
        "        # C: channel, embedding_dim\n",
        "        logits = self.token_embedding_table(idx) # (B,T,C)\n",
        "\n",
        "        if targets is None:\n",
        "            loss = None\n",
        "        else:\n",
        "            B, T, C = logits.shape\n",
        "            logits = logits.view(B*T, C)\n",
        "            targets = targets.view(B*T)\n",
        "            loss = F.cross_entropy(logits, targets)\n",
        "\n",
        "        return logits, loss\n",
        "\n",
        "    def generate(self, idx, max_new_tokens):\n",
        "        # idx is (B, T) array of indices in the current context\n",
        "\n",
        "        for _ in range(max_new_tokens):\n",
        "            logits, loss = self(idx) # logits: (B*T, C)\n",
        "\n",
        "            # focus only on the last time step, predict the next with only one token\n",
        "            logits = logits[:, -1, :] # becomes (B, C)\n",
        "\n",
        "            # apply softmax to get probabilities\n",
        "            probs = F.softmax(logits, dim=-1) # (B, C)\n",
        "\n",
        "            # sample from the distribution\n",
        "            idx_next = torch.multinomial(probs, num_samples=1) # (B, 1)\n",
        "\n",
        "            # append sampled index to the running sequence\n",
        "            idx = torch.cat((idx, idx_next), dim=1) # (B, T+1)\n",
        "\n",
        "        return idx\n",
        "\n",
        "model = BigramLanguageModel(vocab_size)\n",
        "logits, loss = model(xb, yb)\n",
        "\n",
        "print(xb.shape)\n",
        "print(yb.shape)\n",
        "\n",
        "print(logits.shape)\n",
        "print(loss)\n",
        "\n",
        "idx = torch.zeros((1, 1), dtype=torch.long)\n",
        "print(decode(model.generate(idx, max_new_tokens=100)[0].tolist()))\n"
      ],
      "metadata": {
        "colab": {
          "base_uri": "https://localhost:8080/"
        },
        "id": "aFvUWZuo9zMW",
        "outputId": "41d323b4-5e4c-4a45-e7ee-08a507c65709"
      },
      "execution_count": 85,
      "outputs": [
        {
          "output_type": "stream",
          "name": "stdout",
          "text": [
            "torch.Size([4, 8])\n",
            "torch.Size([4, 8])\n",
            "torch.Size([32, 65])\n",
            "tensor(4.8786, grad_fn=<NllLossBackward0>)\n",
            "\n",
            "Sr?qP-QWktXoL&jLDJgOLVz'RIoDqHdhsV&vLLxatjscMpwLERSPyao.qfzs$Ys$zF-w,;eEkzxjgCKFChs!iWW.ObzDnxA Ms$3\n"
          ]
        }
      ]
    },
    {
      "cell_type": "code",
      "source": [
        "# compare the loss, 4.8786 with random guess\n",
        "-np.log(1/65) # -1 * log likelihood of a uniform probability"
      ],
      "metadata": {
        "colab": {
          "base_uri": "https://localhost:8080/"
        },
        "id": "3FfOtFj3Cs7A",
        "outputId": "dff30382-593b-47b5-8e6e-ffde710b72d5"
      },
      "execution_count": 86,
      "outputs": [
        {
          "output_type": "execute_result",
          "data": {
            "text/plain": [
              "4.174387269895637"
            ]
          },
          "metadata": {},
          "execution_count": 86
        }
      ]
    },
    {
      "cell_type": "code",
      "source": [
        "# create a PyTorch optimizer\n",
        "# typically start the learning rate with 3e-4, however for such a small model can use larger\n",
        "optimizer = torch.optim.AdamW(model.parameters(), lr=1e-3)\n",
        "\n",
        "batch_size = 32\n",
        "for steps in range(10000): # increase number of steps for good results...\n",
        "\n",
        "    # sample a batch of data\n",
        "    xb, yb = get_batch('train')\n",
        "\n",
        "    # evaluate the loss\n",
        "    logits, loss = model(xb, yb)\n",
        "    optimizer.zero_grad(set_to_none=True)\n",
        "    loss.backward()\n",
        "    optimizer.step()\n",
        "\n",
        "print(loss.item())"
      ],
      "metadata": {
        "colab": {
          "base_uri": "https://localhost:8080/"
        },
        "id": "6GdWDz5cZZWG",
        "outputId": "6c4fc84e-45e9-42eb-fb31-25ecfcf6bcd2"
      },
      "execution_count": 87,
      "outputs": [
        {
          "output_type": "stream",
          "name": "stdout",
          "text": [
            "2.5727508068084717\n"
          ]
        }
      ]
    },
    {
      "cell_type": "code",
      "source": [
        "idx = torch.zeros((1, 1), dtype=torch.long)\n",
        "print(decode(model.generate(idx, max_new_tokens=100)[0].tolist()))"
      ],
      "metadata": {
        "colab": {
          "base_uri": "https://localhost:8080/"
        },
        "id": "g4ZjsyBqZc_t",
        "outputId": "016823c0-c07a-4e6c-d826-773b2740b5c5"
      },
      "execution_count": 88,
      "outputs": [
        {
          "output_type": "stream",
          "name": "stdout",
          "text": [
            "\n",
            "Iyoteng h hasbe pave pirance\n",
            "Rie hicomyonthar's\n",
            "Plinseard ith henoure wounonthioneir thondy, y helti\n"
          ]
        }
      ]
    },
    {
      "cell_type": "code",
      "source": [],
      "metadata": {
        "id": "AxNCMY23fXux"
      },
      "execution_count": 88,
      "outputs": []
    },
    {
      "cell_type": "markdown",
      "source": [
        "## Matrix tricks: lower triangular matrix"
      ],
      "metadata": {
        "id": "3G6VVYl-HlVw"
      }
    },
    {
      "cell_type": "code",
      "source": [
        "# to simply average on all preceding tokens"
      ],
      "metadata": {
        "id": "6Y-BvbW_iA0N"
      },
      "execution_count": 89,
      "outputs": []
    },
    {
      "cell_type": "code",
      "source": [
        "# toy example illustrating how matrix multiplication can be used for a \"weighted aggregation\"\n",
        "torch.manual_seed(42)\n",
        "\n",
        "a = torch.tril(torch.ones(3, 3))  # lower triangular matrix\n",
        "a = a / torch.sum(a, 1, keepdim=True)\n",
        "b = torch.randint(0, 10, (3,2)).float()\n",
        "c = a @ b  # same as c = torch.matmul(a, b)\n",
        "\n",
        "print('a=')\n",
        "print(a)\n",
        "print('--')\n",
        "print('b=')\n",
        "print(b)\n",
        "print('--')\n",
        "print('c=')\n",
        "print(c)\n",
        "# c[0] is b[0]\n",
        "# c[1] is the average of b[0], b[1]\n",
        "# c[2] is the average of b[0], b[1], b[2]"
      ],
      "metadata": {
        "colab": {
          "base_uri": "https://localhost:8080/"
        },
        "id": "hht0Ed08mRMa",
        "outputId": "4615777b-a917-4904-88b1-74c8c4e61b92"
      },
      "execution_count": 90,
      "outputs": [
        {
          "output_type": "stream",
          "name": "stdout",
          "text": [
            "a=\n",
            "tensor([[1.0000, 0.0000, 0.0000],\n",
            "        [0.5000, 0.5000, 0.0000],\n",
            "        [0.3333, 0.3333, 0.3333]])\n",
            "--\n",
            "b=\n",
            "tensor([[2., 7.],\n",
            "        [6., 4.],\n",
            "        [6., 5.]])\n",
            "--\n",
            "c=\n",
            "tensor([[2.0000, 7.0000],\n",
            "        [4.0000, 5.5000],\n",
            "        [4.6667, 5.3333]])\n"
          ]
        }
      ]
    },
    {
      "cell_type": "code",
      "source": [
        "torch.manual_seed(1337)\n",
        "B,T,C = 4,8,2 # batch, time, channels\n",
        "x = torch.randn(B,T,C)"
      ],
      "metadata": {
        "id": "F6IuqvpFmRzG"
      },
      "execution_count": 91,
      "outputs": []
    },
    {
      "cell_type": "code",
      "source": [
        "# version 1: brute force\n",
        "\n",
        "# We want x[b,t] = mean_{i<=t} x[b,i]\n",
        "xbow = torch.zeros((B,T,C))\n",
        "\n",
        "for b in range(B):\n",
        "    for t in range(T):\n",
        "        xprev = x[b, :t+1] # (t+1, C), embeddings for all preceding tokens\n",
        "        xbow[b,t] = torch.mean(xprev, 0) # collapsing on axies=0, i.e. average all preceding tokens\n"
      ],
      "metadata": {
        "id": "ybZCmqEfnNKs"
      },
      "execution_count": 92,
      "outputs": []
    },
    {
      "cell_type": "code",
      "source": [
        "x[0]"
      ],
      "metadata": {
        "colab": {
          "base_uri": "https://localhost:8080/"
        },
        "id": "iF0Rj8QSnTZW",
        "outputId": "e8017ed5-12d4-47af-8004-c8024e0481f1"
      },
      "execution_count": 93,
      "outputs": [
        {
          "output_type": "execute_result",
          "data": {
            "text/plain": [
              "tensor([[ 0.1808, -0.0700],\n",
              "        [-0.3596, -0.9152],\n",
              "        [ 0.6258,  0.0255],\n",
              "        [ 0.9545,  0.0643],\n",
              "        [ 0.3612,  1.1679],\n",
              "        [-1.3499, -0.5102],\n",
              "        [ 0.2360, -0.2398],\n",
              "        [-0.9211,  1.5433]])"
            ]
          },
          "metadata": {},
          "execution_count": 93
        }
      ]
    },
    {
      "cell_type": "code",
      "source": [
        "xbow[0]\n",
        "# xbow[0] is x[0]\n",
        "# xbow[1] is the average of x[0], x[1], and so on"
      ],
      "metadata": {
        "colab": {
          "base_uri": "https://localhost:8080/"
        },
        "id": "Y-7hZjyrngXW",
        "outputId": "e47ab78b-59d0-477e-89ee-f47a0d2a5e1b"
      },
      "execution_count": 94,
      "outputs": [
        {
          "output_type": "execute_result",
          "data": {
            "text/plain": [
              "tensor([[ 0.1808, -0.0700],\n",
              "        [-0.0894, -0.4926],\n",
              "        [ 0.1490, -0.3199],\n",
              "        [ 0.3504, -0.2238],\n",
              "        [ 0.3525,  0.0545],\n",
              "        [ 0.0688, -0.0396],\n",
              "        [ 0.0927, -0.0682],\n",
              "        [-0.0341,  0.1332]])"
            ]
          },
          "metadata": {},
          "execution_count": 94
        }
      ]
    },
    {
      "cell_type": "code",
      "source": [
        "# version 2: using matrix multiply for a weighted aggregation\n",
        "weights = torch.tril(torch.ones(T, T))\n",
        "weights = weights / weights.sum(1, keepdim=True)\n",
        "print(weights)\n",
        "\n",
        "xbow2 = weights @ x # (B, T, T) @ (B, T, C) ----> (B, T, C). weights is originally (T, T), broadcasting duplicates B times as (B, T, T)\n",
        "torch.allclose(xbow, xbow2) # xbow and xbow2 should be identical"
      ],
      "metadata": {
        "colab": {
          "base_uri": "https://localhost:8080/"
        },
        "id": "_t-SuwkSnjxY",
        "outputId": "5e2be5ae-340b-40e2-dc48-c17ce809af20"
      },
      "execution_count": 95,
      "outputs": [
        {
          "output_type": "stream",
          "name": "stdout",
          "text": [
            "tensor([[1.0000, 0.0000, 0.0000, 0.0000, 0.0000, 0.0000, 0.0000, 0.0000],\n",
            "        [0.5000, 0.5000, 0.0000, 0.0000, 0.0000, 0.0000, 0.0000, 0.0000],\n",
            "        [0.3333, 0.3333, 0.3333, 0.0000, 0.0000, 0.0000, 0.0000, 0.0000],\n",
            "        [0.2500, 0.2500, 0.2500, 0.2500, 0.0000, 0.0000, 0.0000, 0.0000],\n",
            "        [0.2000, 0.2000, 0.2000, 0.2000, 0.2000, 0.0000, 0.0000, 0.0000],\n",
            "        [0.1667, 0.1667, 0.1667, 0.1667, 0.1667, 0.1667, 0.0000, 0.0000],\n",
            "        [0.1429, 0.1429, 0.1429, 0.1429, 0.1429, 0.1429, 0.1429, 0.0000],\n",
            "        [0.1250, 0.1250, 0.1250, 0.1250, 0.1250, 0.1250, 0.1250, 0.1250]])\n"
          ]
        },
        {
          "output_type": "execute_result",
          "data": {
            "text/plain": [
              "False"
            ]
          },
          "metadata": {},
          "execution_count": 95
        }
      ]
    },
    {
      "cell_type": "code",
      "source": [
        "print(xbow[1])\n",
        "print(xbow2[1])"
      ],
      "metadata": {
        "colab": {
          "base_uri": "https://localhost:8080/"
        },
        "id": "cR6PlzwTq_d1",
        "outputId": "487933bf-6008-47d5-e072-c922e7318939"
      },
      "execution_count": 96,
      "outputs": [
        {
          "output_type": "stream",
          "name": "stdout",
          "text": [
            "tensor([[ 1.3488, -0.1396],\n",
            "        [ 0.8173,  0.4127],\n",
            "        [-0.1342,  0.4395],\n",
            "        [ 0.2711,  0.4774],\n",
            "        [ 0.2421,  0.0694],\n",
            "        [ 0.0084,  0.0020],\n",
            "        [ 0.0712, -0.1128],\n",
            "        [ 0.2527,  0.2149]])\n",
            "tensor([[ 1.3488, -0.1396],\n",
            "        [ 0.8173,  0.4127],\n",
            "        [-0.1342,  0.4395],\n",
            "        [ 0.2711,  0.4774],\n",
            "        [ 0.2421,  0.0694],\n",
            "        [ 0.0084,  0.0020],\n",
            "        [ 0.0712, -0.1128],\n",
            "        [ 0.2527,  0.2149]])\n"
          ]
        }
      ]
    },
    {
      "cell_type": "code",
      "source": [
        "# version 3: use Softmax\n",
        "# 和读paper联动了\n",
        "# 这是simple average all embedding的做法。self attention中，weights对不同的token embedding有同的权重\n",
        "# 相比version 2，其实就是给权重加了个softmax，在weights不一样时会体现出区别\n",
        "\n",
        "weights = torch.zeros((T,T))\n",
        "print(weights)\n",
        "\n",
        "tril = torch.tril(torch.ones(T, T))\n",
        "weights = weights.masked_fill(tril == 0, float('-inf'))\n",
        "print(weights)\n",
        "\n",
        "weights = F.softmax(weights, dim=-1)\n",
        "print(weights)\n",
        "\n",
        "xbow3 = weights @ x\n",
        "torch.allclose(xbow, xbow3)"
      ],
      "metadata": {
        "colab": {
          "base_uri": "https://localhost:8080/"
        },
        "id": "V67AO8nvsIQ1",
        "outputId": "a4e7db3c-8103-45b9-9f5f-26cf5b307f79"
      },
      "execution_count": 97,
      "outputs": [
        {
          "output_type": "stream",
          "name": "stdout",
          "text": [
            "tensor([[0., 0., 0., 0., 0., 0., 0., 0.],\n",
            "        [0., 0., 0., 0., 0., 0., 0., 0.],\n",
            "        [0., 0., 0., 0., 0., 0., 0., 0.],\n",
            "        [0., 0., 0., 0., 0., 0., 0., 0.],\n",
            "        [0., 0., 0., 0., 0., 0., 0., 0.],\n",
            "        [0., 0., 0., 0., 0., 0., 0., 0.],\n",
            "        [0., 0., 0., 0., 0., 0., 0., 0.],\n",
            "        [0., 0., 0., 0., 0., 0., 0., 0.]])\n",
            "tensor([[0., -inf, -inf, -inf, -inf, -inf, -inf, -inf],\n",
            "        [0., 0., -inf, -inf, -inf, -inf, -inf, -inf],\n",
            "        [0., 0., 0., -inf, -inf, -inf, -inf, -inf],\n",
            "        [0., 0., 0., 0., -inf, -inf, -inf, -inf],\n",
            "        [0., 0., 0., 0., 0., -inf, -inf, -inf],\n",
            "        [0., 0., 0., 0., 0., 0., -inf, -inf],\n",
            "        [0., 0., 0., 0., 0., 0., 0., -inf],\n",
            "        [0., 0., 0., 0., 0., 0., 0., 0.]])\n",
            "tensor([[1.0000, 0.0000, 0.0000, 0.0000, 0.0000, 0.0000, 0.0000, 0.0000],\n",
            "        [0.5000, 0.5000, 0.0000, 0.0000, 0.0000, 0.0000, 0.0000, 0.0000],\n",
            "        [0.3333, 0.3333, 0.3333, 0.0000, 0.0000, 0.0000, 0.0000, 0.0000],\n",
            "        [0.2500, 0.2500, 0.2500, 0.2500, 0.0000, 0.0000, 0.0000, 0.0000],\n",
            "        [0.2000, 0.2000, 0.2000, 0.2000, 0.2000, 0.0000, 0.0000, 0.0000],\n",
            "        [0.1667, 0.1667, 0.1667, 0.1667, 0.1667, 0.1667, 0.0000, 0.0000],\n",
            "        [0.1429, 0.1429, 0.1429, 0.1429, 0.1429, 0.1429, 0.1429, 0.0000],\n",
            "        [0.1250, 0.1250, 0.1250, 0.1250, 0.1250, 0.1250, 0.1250, 0.1250]])\n"
          ]
        },
        {
          "output_type": "execute_result",
          "data": {
            "text/plain": [
              "False"
            ]
          },
          "metadata": {},
          "execution_count": 97
        }
      ]
    },
    {
      "cell_type": "markdown",
      "source": [
        "## Model v2: with linear layer after token embedding"
      ],
      "metadata": {
        "id": "63vSkmEqIAth"
      }
    },
    {
      "cell_type": "code",
      "source": [
        "# model v2\n",
        "# 1. add embedding_dim, and a linear output layer so that embedding_dim no longer need to be vocab_size\n",
        "\n",
        "class BigramLanguageModel(nn.Module):\n",
        "    # a model predicting next token only based on itself\n",
        "\n",
        "    def __init__(self, vocab_size=65, embedding_dim=32):\n",
        "        super().__init__()\n",
        "\n",
        "        self.token_embedding_table = nn.Embedding(vocab_size, embedding_dim) # (num_embeddings, embedding_dim)\n",
        "        self.lm_head = nn.Linear(embedding_dim, vocab_size)\n",
        "\n",
        "    def forward(self, idx, targets=None):\n",
        "        # idx and targets are both (B,T) tensor of integers\n",
        "        B, T = idx.shape\n",
        "\n",
        "        token_emb = self.token_embedding_table(idx) # (B,T,embedding_dim)\n",
        "        logits = self.lm_head(token_emb) # (B,T,vocab_size)\n",
        "\n",
        "        if targets is None:\n",
        "            loss = None\n",
        "        else:\n",
        "            B, T, C = logits.shape\n",
        "            logits = logits.view(B*T, C)\n",
        "            targets = targets.view(B*T)\n",
        "            loss = F.cross_entropy(logits, targets)\n",
        "\n",
        "        return logits, loss\n",
        "\n",
        "    def generate(self, idx, max_new_tokens):\n",
        "        # idx is (B, T) array of indices in the current context\n",
        "\n",
        "        for _ in range(max_new_tokens):\n",
        "            logits, loss = self(idx) # logits: (B*T, C)\n",
        "\n",
        "            # focus only on the last time step, predict the next with only one token\n",
        "            logits = logits[:, -1, :] # becomes (B, C)\n",
        "\n",
        "            # apply softmax to get probabilities\n",
        "            probs = F.softmax(logits, dim=-1) # (B, C)\n",
        "\n",
        "            # sample from the distribution\n",
        "            idx_next = torch.multinomial(probs, num_samples=1) # (B, 1)\n",
        "\n",
        "            # append sampled index to the running sequence\n",
        "            idx = torch.cat((idx, idx_next), dim=1) # (B, T+1)\n",
        "\n",
        "        return idx\n",
        "\n",
        "model = BigramLanguageModel()\n",
        "logits, loss = model(xb, yb)\n",
        "\n",
        "print(xb.shape)\n",
        "print(yb.shape)\n",
        "\n",
        "print(logits.shape)\n",
        "print(loss)\n",
        "\n",
        "idx = torch.zeros((1, 1), dtype=torch.long)\n",
        "print(decode(model.generate(idx, max_new_tokens=100)[0].tolist()))\n"
      ],
      "metadata": {
        "colab": {
          "base_uri": "https://localhost:8080/"
        },
        "id": "LflQ0MHgddPj",
        "outputId": "aa73cb73-1323-411e-e4b3-2d22f8668b69"
      },
      "execution_count": 98,
      "outputs": [
        {
          "output_type": "stream",
          "name": "stdout",
          "text": [
            "torch.Size([32, 8])\n",
            "torch.Size([32, 8])\n",
            "torch.Size([256, 65])\n",
            "tensor(4.3442, grad_fn=<NllLossBackward0>)\n",
            "\n",
            "ERS'paokq3zs$DA$zF-QTkeMk;x-AQaFCLg!iW3.O!tDGxA MsT3!dK-!KpcVeJydKJSrsA&Rqt!:!wWSz.WxbjBiDeLhsKya;fK\n"
          ]
        }
      ]
    },
    {
      "cell_type": "code",
      "source": [
        "# typically start the learning rate with 3e-4, however for such a small model can use larger\n",
        "optimizer = torch.optim.AdamW(model.parameters(), lr=1e-3)\n",
        "\n",
        "batch_size = 32\n",
        "for steps in range(10000):\n",
        "    # sample a batch of data\n",
        "    xb, yb = get_batch('train')\n",
        "\n",
        "    # evaluate the loss\n",
        "    logits, loss = model(xb, yb)\n",
        "    optimizer.zero_grad(set_to_none=True)\n",
        "    loss.backward()\n",
        "    optimizer.step()\n",
        "\n",
        "print(loss.item())"
      ],
      "metadata": {
        "colab": {
          "base_uri": "https://localhost:8080/"
        },
        "id": "TkW7uHIXdsj_",
        "outputId": "81d69d14-3002-4804-9c39-950070b64c09"
      },
      "execution_count": 99,
      "outputs": [
        {
          "output_type": "stream",
          "name": "stdout",
          "text": [
            "2.453615427017212\n"
          ]
        }
      ]
    },
    {
      "cell_type": "markdown",
      "source": [
        "加了linear layer后，2.453615427017212 的loss，相比之前的 2.5727508068084717，要好"
      ],
      "metadata": {
        "id": "v_vf8oxZhKGC"
      }
    },
    {
      "cell_type": "markdown",
      "source": [
        "## Single Head Self-Attention, Scaled Dot-Product Attention, and model v3"
      ],
      "metadata": {
        "id": "D81tC-47HaP7"
      }
    },
    {
      "cell_type": "code",
      "source": [
        "# version 4: self attention: data dependent way to decide token to token attention\n",
        "\n",
        "torch.manual_seed(1337)\n",
        "B,T,C = 4,8,32 # batch size, time/context length, channels/embedding_dim\n",
        "x = torch.randn(B,T,C)\n",
        "\n",
        "# single head self attention\n",
        "# key: what do I contain\n",
        "# query: what do I looking for\n",
        "# value: private content of a token\n",
        "\n",
        "head_size = 16\n",
        "key = nn.Linear(C, head_size, bias=False)\n",
        "query = nn.Linear(C, head_size, bias=False)\n",
        "value = nn.Linear(C, head_size, bias=False)\n",
        "\n",
        "k = key(x) # (B, T, 16)\n",
        "q = query(x) # (B, T, 16)\n",
        "weights = q @ k.transpose(-2, -1) # (B, T, 16) @ (B, 16, T) --> (B, T, T), transpose the last 2 dimensions, keep calculation within a sample\n",
        "\n",
        "tril = torch.tril(torch.ones(T, T))\n",
        "weights = weights.masked_fill(tril == 0, float('-inf'))\n",
        "print(weights[0])\n",
        "\n",
        "# weights has a shape of (B, T, T), (a sample in a batch, a token in all tokens, attention to all other tokens), softmax along the last dim\n",
        "weights = F.softmax(weights, dim=-1)\n",
        "print(weights[0]) # softmax normalization shows up\n",
        "\n",
        "v = value(x)\n",
        "out = weights @ v # (B, T, T) @ (B, T, head_size) --> (B, T, head_size)\n",
        "\n",
        "print(out.shape)\n",
        "\n",
        "# notes\n",
        "# 1. as we can see no positional (absolute or relative) information is encoded. CNN has relative local info by convolute with only neighbors\n",
        "#    hence positional encoding is needed.\n",
        "# 2. batch matrix mul. different samples within a batch do not talk with each other\n",
        "# 3. this is a decoder setting (auto-regressive), which a token is only allowed to see preceding tokens\n",
        "#    for encoder setting, or simply want to see all tokens, just remove: weights = weights.masked_fill(tril == 0, float('-inf'))\n",
        "# 4. self attention mean, KQV are all emit from itself, i.e. k = key(x), q = query(x), v = value(x)\n",
        "#    there could be \"cross attention\". say in Transformer's encoder-decoder setting, query comes from x, while key and value come from encoder.\n"
      ],
      "metadata": {
        "colab": {
          "base_uri": "https://localhost:8080/"
        },
        "id": "Mtd8cFyctuz5",
        "outputId": "ce901475-fa30-43cf-ac88-2c4e30159302"
      },
      "execution_count": 101,
      "outputs": [
        {
          "output_type": "stream",
          "name": "stdout",
          "text": [
            "tensor([[-1.7629,    -inf,    -inf,    -inf,    -inf,    -inf,    -inf,    -inf],\n",
            "        [-3.3334, -1.6556,    -inf,    -inf,    -inf,    -inf,    -inf,    -inf],\n",
            "        [-1.0226, -1.2606,  0.0762,    -inf,    -inf,    -inf,    -inf,    -inf],\n",
            "        [ 0.7836, -0.8014, -0.3368, -0.8496,    -inf,    -inf,    -inf,    -inf],\n",
            "        [-1.2566,  0.0187, -0.7880, -1.3204,  2.0363,    -inf,    -inf,    -inf],\n",
            "        [-0.3126,  2.4152, -0.1106, -0.9931,  3.3449, -2.5229,    -inf,    -inf],\n",
            "        [ 1.0876,  1.9652, -0.2621, -0.3158,  0.6091,  1.2616, -0.5484,    -inf],\n",
            "        [-1.8044, -0.4126, -0.8306,  0.5899, -0.7987, -0.5856,  0.6433,  0.6303]],\n",
            "       grad_fn=<SelectBackward0>)\n",
            "tensor([[1.0000, 0.0000, 0.0000, 0.0000, 0.0000, 0.0000, 0.0000, 0.0000],\n",
            "        [0.1574, 0.8426, 0.0000, 0.0000, 0.0000, 0.0000, 0.0000, 0.0000],\n",
            "        [0.2088, 0.1646, 0.6266, 0.0000, 0.0000, 0.0000, 0.0000, 0.0000],\n",
            "        [0.5792, 0.1187, 0.1889, 0.1131, 0.0000, 0.0000, 0.0000, 0.0000],\n",
            "        [0.0294, 0.1052, 0.0469, 0.0276, 0.7909, 0.0000, 0.0000, 0.0000],\n",
            "        [0.0176, 0.2689, 0.0215, 0.0089, 0.6812, 0.0019, 0.0000, 0.0000],\n",
            "        [0.1691, 0.4066, 0.0438, 0.0416, 0.1048, 0.2012, 0.0329, 0.0000],\n",
            "        [0.0210, 0.0843, 0.0555, 0.2297, 0.0573, 0.0709, 0.2423, 0.2391]],\n",
            "       grad_fn=<SelectBackward0>)\n",
            "torch.Size([4, 8, 16])\n"
          ]
        }
      ]
    },
    {
      "cell_type": "code",
      "source": [
        "# scaled dot product attention\n",
        "k = torch.randn(B, T, head_size)  # unit Guassian inputs\n",
        "q = torch.randn(B, T, head_size)\n",
        "weights = q @ k.transpose(-2, -1)\n",
        "\n",
        "print(k.var())\n",
        "print(q.var())\n",
        "print(weights.var())\n",
        "\n",
        "weights = q @ k.transpose(-2, -1) * head_size ** -0.5\n",
        "print(weights.var())\n",
        "\n",
        "# if no normalization, the variance of weights wil be on the order of head_size, here is 16\n",
        "# when deviding by sqrt(head_size), bring the variance back\n",
        "# \"Scaled\" attention additional divides `wei` by 1/sqrt(head_size). This makes it so when input Q,K are unit variance, wei will be unit variance too\n",
        "# and Softmax will stay diffuse and not saturate too much."
      ],
      "metadata": {
        "colab": {
          "base_uri": "https://localhost:8080/"
        },
        "id": "kY_IgvrnMxxz",
        "outputId": "0098117d-d873-4c49-a369-390b41c14332"
      },
      "execution_count": 102,
      "outputs": [
        {
          "output_type": "stream",
          "name": "stdout",
          "text": [
            "tensor(1.0449)\n",
            "tensor(1.0700)\n",
            "tensor(17.4690)\n",
            "tensor(1.0918)\n"
          ]
        }
      ]
    },
    {
      "cell_type": "code",
      "source": [
        "torch.softmax(torch.tensor([0.1, -0.2, 0.3, -0.2, 0.5]), dim=-1)"
      ],
      "metadata": {
        "colab": {
          "base_uri": "https://localhost:8080/"
        },
        "id": "K1hnbJhfVbxV",
        "outputId": "e913468b-28a0-4d3d-f71c-9e13f23b5058"
      },
      "execution_count": 103,
      "outputs": [
        {
          "output_type": "execute_result",
          "data": {
            "text/plain": [
              "tensor([0.1925, 0.1426, 0.2351, 0.1426, 0.2872])"
            ]
          },
          "metadata": {},
          "execution_count": 103
        }
      ]
    },
    {
      "cell_type": "code",
      "source": [
        "torch.softmax(torch.tensor([0.1, -0.2, 0.3, -0.2, 0.5])*8, dim=-1) # gets too peaky, converges to one-hot/sharpen towards the max"
      ],
      "metadata": {
        "colab": {
          "base_uri": "https://localhost:8080/"
        },
        "id": "x3YD2rd1Vi7F",
        "outputId": "dd3631ff-33e1-4e41-f00e-fb6d92cc62b8"
      },
      "execution_count": 104,
      "outputs": [
        {
          "output_type": "execute_result",
          "data": {
            "text/plain": [
              "tensor([0.0326, 0.0030, 0.1615, 0.0030, 0.8000])"
            ]
          },
          "metadata": {},
          "execution_count": 104
        }
      ]
    },
    {
      "cell_type": "code",
      "source": [
        "class SingleHeadSelfAttention(nn.Module):\n",
        "    \"\"\"one head of self attention\"\"\"\n",
        "\n",
        "    def __init__(self, d_model, head_size=16, block_size=8):\n",
        "        \"\"\"\n",
        "        d_model: embedding dim, previous C\n",
        "        head_size: size of KQV embeddings\n",
        "        block_size: max context length, previous T\n",
        "        \"\"\"\n",
        "        super().__init__()\n",
        "        self.d_model = d_model\n",
        "        self.head_size = head_size\n",
        "        self.block_size = block_size\n",
        "\n",
        "        self.w_key = nn.Linear(d_model, head_size, bias=False)\n",
        "        self.w_query = nn.Linear(d_model, head_size, bias=False)\n",
        "        self.w_value = nn.Linear(d_model, head_size, bias=False)\n",
        "\n",
        "        self.register_buffer('tril', torch.tril(torch.ones(block_size, block_size)))\n",
        "\n",
        "    def forward(self, x):\n",
        "        B, T, C = x.shape\n",
        "        k = self.w_key(x) # (B,T,head_size)\n",
        "        q = self.w_query(x) # (B,T,head_size)\n",
        "\n",
        "        # compute attention scores\n",
        "        attentions = q @ k.transpose(-2, -1) * (self.head_size ** -0.5) # (B,T,head_size) @ (B,head_size,T) --> (B, T, T)\n",
        "        attentions = attentions.masked_fill(self.tril[:T, :T] == 0, float('-inf')) # (B, T, T)\n",
        "        attentions = F.softmax(attentions, dim=-1) # (B, T, T)\n",
        "\n",
        "        # weighted sum of values\n",
        "        v = self.w_value(x)\n",
        "        out = attentions @ v  # (B, T, T) @ (B,T,head_size) --> (B,T,head_size)\n",
        "\n",
        "        return out\n"
      ],
      "metadata": {
        "id": "e52xkI_I--Vn"
      },
      "execution_count": 105,
      "outputs": []
    },
    {
      "cell_type": "code",
      "source": [
        "# v3 model, add positional encoding and single head self attention\n",
        "# 1. add position embedding. pass token_emb + pos_emb to output layer\n",
        "# 2. add SingleHeadSelfAttention\n",
        "# 3. crop input sequence length, so that it does not exceed the size of position_embedding_table\n",
        "\n",
        "class BigramLanguageModel(nn.Module):\n",
        "\n",
        "    def __init__(self, vocab_size=65, embedding_dim=32, block_size=8):\n",
        "        super().__init__()\n",
        "\n",
        "        self.token_embedding_table = nn.Embedding(vocab_size, embedding_dim) # (num_embeddings, embedding_dim)\n",
        "        self.position_embedding_table = nn.Embedding(block_size, embedding_dim)\n",
        "        self.attention_layer = SingleHeadSelfAttention(d_model=embedding_dim)\n",
        "        self.lm_head = nn.Linear(16, vocab_size) # head size is 16\n",
        "\n",
        "    def forward(self, idx, targets=None):\n",
        "        # idx and targets are both (B,T) tensor of integers\n",
        "        B, T = idx.shape\n",
        "\n",
        "        token_emb = self.token_embedding_table(idx) # (B,T,embedding_dim)\n",
        "        pos_emb = self.position_embedding_table(torch.arange(T)) # (T, embedding_dim)\n",
        "        x = token_emb + pos_emb # (B,T,embedding_dim), broadcasting\n",
        "\n",
        "        x = self.attention_layer(x)# (B,T,embedding_dim) --> # (B,T,head_size), multi-head will remain embedding_dim\n",
        "\n",
        "        logits = self.lm_head(x) # (B,T,vocab_size)\n",
        "\n",
        "        if targets is None:\n",
        "            loss = None\n",
        "        else:\n",
        "            B, T, C = logits.shape\n",
        "            logits = logits.view(B*T, C)\n",
        "            targets = targets.view(B*T)\n",
        "            loss = F.cross_entropy(logits, targets)\n",
        "\n",
        "        return logits, loss\n",
        "\n",
        "    def generate(self, idx, max_new_tokens):\n",
        "        # idx is (B, T) array of indices in the current context\n",
        "\n",
        "        for _ in range(max_new_tokens):\n",
        "            # crop idx/input sequence length\n",
        "            idx_corp = idx[:, -block_size:]\n",
        "\n",
        "            logits, loss = self(idx_corp) # logits: (B*T, C)\n",
        "\n",
        "            # focus only on the last time step, predict the next with only one token\n",
        "            logits = logits[:, -1, :] # becomes (B, C)\n",
        "\n",
        "            # apply softmax to get probabilities\n",
        "            probs = F.softmax(logits, dim=-1) # (B, C)\n",
        "\n",
        "            # sample from the distribution\n",
        "            idx_next = torch.multinomial(probs, num_samples=1) # (B, 1)\n",
        "\n",
        "            # append sampled index to the running sequence\n",
        "            idx = torch.cat((idx, idx_next), dim=1) # (B, T+1)\n",
        "\n",
        "        return idx\n",
        "\n",
        "model = BigramLanguageModel()\n",
        "logits, loss = model(xb, yb)\n",
        "\n",
        "print(xb.shape)\n",
        "print(yb.shape)\n",
        "\n",
        "print(logits.shape)\n",
        "print(loss)\n",
        "\n",
        "idx = torch.zeros((1, 1), dtype=torch.long)\n",
        "print(decode(model.generate(idx, max_new_tokens=100)[0].tolist()))"
      ],
      "metadata": {
        "colab": {
          "base_uri": "https://localhost:8080/"
        },
        "id": "rGXYVvc3gse4",
        "outputId": "57388523-efd3-4df8-afa7-588d5605b54f"
      },
      "execution_count": 106,
      "outputs": [
        {
          "output_type": "stream",
          "name": "stdout",
          "text": [
            "torch.Size([32, 8])\n",
            "torch.Size([32, 8])\n",
            "torch.Size([256, 65])\n",
            "tensor(4.2837, grad_fn=<NllLossBackward0>)\n",
            "\n",
            "AzRuYYiLEKBPX!UKX'qBjQ3!!e.bAF:WmRKrkTlkJmdFMJqmbhDr!YCD Gzsys:zKRj .ysTt tTgO'bov$po$raxDmx;e$3sCXq\n"
          ]
        }
      ]
    },
    {
      "cell_type": "code",
      "source": [
        "# typically start the learning rate with 3e-4, however for such a small model can use larger\n",
        "optimizer = torch.optim.AdamW(model.parameters(), lr=1e-3)\n",
        "\n",
        "batch_size = 32\n",
        "for steps in range(10000):\n",
        "    # sample a batch of data\n",
        "    xb, yb = get_batch('train')\n",
        "\n",
        "    # evaluate the loss\n",
        "    logits, loss = model(xb, yb)\n",
        "    optimizer.zero_grad(set_to_none=True)\n",
        "    loss.backward()\n",
        "    optimizer.step()\n",
        "\n",
        "print(loss.item())"
      ],
      "metadata": {
        "colab": {
          "base_uri": "https://localhost:8080/"
        },
        "id": "0mYmCZDfFUk1",
        "outputId": "78f2895b-a6e7-43c5-81bf-189f8eae5f23"
      },
      "execution_count": 107,
      "outputs": [
        {
          "output_type": "stream",
          "name": "stdout",
          "text": [
            "2.3911821842193604\n"
          ]
        }
      ]
    },
    {
      "cell_type": "code",
      "source": [
        "# the loss, 2.29, is much lower than the previous 2.4x and 2.5x. see how the generation looks like\n",
        "idx = torch.zeros((1, 1), dtype=torch.long)\n",
        "print(decode(model.generate(idx, max_new_tokens=100)[0].tolist()))"
      ],
      "metadata": {
        "colab": {
          "base_uri": "https://localhost:8080/"
        },
        "id": "UW9WS0j1GIuc",
        "outputId": "62ac3257-29c7-42f8-913c-a76ebdc29e0e"
      },
      "execution_count": 108,
      "outputs": [
        {
          "output_type": "stream",
          "name": "stdout",
          "text": [
            "\n",
            "Peened den sinsth hishen tear:\n",
            "He bt thisin argo gs fran bee nanis theer so,\n",
            "K:\n",
            "Frot wiet re, higay \n"
          ]
        }
      ]
    },
    {
      "cell_type": "markdown",
      "source": [
        "## Multi-Head Self Attention and model v4"
      ],
      "metadata": {
        "id": "VdiYB1RZHRQ_"
      }
    },
    {
      "cell_type": "markdown",
      "source": [
        "![截屏2024-04-07 下午11.30.38.png](data:image/png;base64,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)"
      ],
      "metadata": {
        "id": "_R6v_WkwZlJv"
      }
    },
    {
      "cell_type": "code",
      "source": [
        "class MultiHeadAttention(nn.Module):\n",
        "    def __init__(self, num_heads, head_size):\n",
        "        super().__init__()\n",
        "        d_model = num_heads * head_size\n",
        "        self.heads = nn.ModuleList(SingleHeadSelfAttention(d_model, head_size) for _ in range(num_heads))\n",
        "        self.w_output = nn.Linear(d_model, d_model)\n",
        "\n",
        "    def forward(self, x):\n",
        "        head_outs = [head(x) for head in self.heads] # shape of single head output: (B,T,head_size)\n",
        "        x = torch.cat(head_outs, dim=-1)\n",
        "        x = self.w_output(x)\n",
        "        return x\n"
      ],
      "metadata": {
        "id": "ztIhYKzAG85L"
      },
      "execution_count": 109,
      "outputs": []
    },
    {
      "cell_type": "code",
      "source": [
        "# v4 model, with multi-head self attention\n",
        "\n",
        "class BigramLanguageModel(nn.Module):\n",
        "\n",
        "    def __init__(self, vocab_size=65, embedding_dim=32, block_size=8):\n",
        "        super().__init__()\n",
        "\n",
        "        self.token_embedding_table = nn.Embedding(vocab_size, embedding_dim) # (num_embeddings, embedding_dim)\n",
        "        self.position_embedding_table = nn.Embedding(block_size, embedding_dim)\n",
        "        self.attention_layer = MultiHeadAttention(num_heads=4, head_size=8) # num_heads * head_size = embedding_dim\n",
        "        self.lm_head = nn.Linear(embedding_dim, vocab_size)\n",
        "\n",
        "    def forward(self, idx, targets=None):\n",
        "        # idx and targets are both (B,T) tensor of integers\n",
        "        B, T = idx.shape\n",
        "\n",
        "        token_emb = self.token_embedding_table(idx) # (B,T,embedding_dim)\n",
        "        pos_emb = self.position_embedding_table(torch.arange(T)) # (T, embedding_dim)\n",
        "        x = token_emb + pos_emb # (B,T,embedding_dim), broadcasting\n",
        "\n",
        "        x = self.attention_layer(x)# (B,T,embedding_dim) --> # (B,T,embedding_dim)\n",
        "\n",
        "        logits = self.lm_head(x) # (B,T,vocab_size)\n",
        "\n",
        "        if targets is None:\n",
        "            loss = None\n",
        "        else:\n",
        "            B, T, C = logits.shape\n",
        "            logits = logits.view(B*T, C)\n",
        "            targets = targets.view(B*T)\n",
        "            loss = F.cross_entropy(logits, targets)\n",
        "\n",
        "        return logits, loss\n",
        "\n",
        "    def generate(self, idx, max_new_tokens):\n",
        "        # idx is (B, T) array of indices in the current context\n",
        "\n",
        "        for _ in range(max_new_tokens):\n",
        "            # crop idx/input sequence length\n",
        "            idx_corp = idx[:, -block_size:]\n",
        "\n",
        "            logits, loss = self(idx_corp) # logits: (B*T, C)\n",
        "\n",
        "            # focus only on the last time step, predict the next with only one token\n",
        "            logits = logits[:, -1, :] # becomes (B, C)\n",
        "\n",
        "            # apply softmax to get probabilities\n",
        "            probs = F.softmax(logits, dim=-1) # (B, C)\n",
        "\n",
        "            # sample from the distribution\n",
        "            idx_next = torch.multinomial(probs, num_samples=1) # (B, 1)\n",
        "\n",
        "            # append sampled index to the running sequence\n",
        "            idx = torch.cat((idx, idx_next), dim=1) # (B, T+1)\n",
        "\n",
        "        return idx\n",
        "\n",
        "model = BigramLanguageModel()\n",
        "logits, loss = model(xb, yb)\n",
        "\n",
        "print(xb.shape)\n",
        "print(yb.shape)\n",
        "\n",
        "print(logits.shape)\n",
        "print(loss)\n",
        "\n",
        "idx = torch.zeros((1, 1), dtype=torch.long)\n",
        "print(decode(model.generate(idx, max_new_tokens=100)[0].tolist()))"
      ],
      "metadata": {
        "colab": {
          "base_uri": "https://localhost:8080/"
        },
        "id": "Svnz1z_dMpmQ",
        "outputId": "48a16bb3-ba77-4b95-aa42-60a7b4a3dcfd"
      },
      "execution_count": 110,
      "outputs": [
        {
          "output_type": "stream",
          "name": "stdout",
          "text": [
            "torch.Size([32, 8])\n",
            "torch.Size([32, 8])\n",
            "torch.Size([256, 65])\n",
            "tensor(4.1555, grad_fn=<NllLossBackward0>)\n",
            "\n",
            "L3Z$DEKFWndVd\n",
            "SnLjaHszsrxGJ$pf?Nhf\n",
            "gkcBhoH?nC-UXWiTBb,l&e$3$&\n",
            "SrAAWRzJBvGK-wNJXNGUbXE;z kE'wXhnphO. \n"
          ]
        }
      ]
    },
    {
      "cell_type": "code",
      "source": [
        "optimizer = torch.optim.AdamW(model.parameters(), lr=1e-3)\n",
        "\n",
        "batch_size = 32\n",
        "for steps in range(10000):\n",
        "    # sample a batch of data\n",
        "    xb, yb = get_batch('train')\n",
        "\n",
        "    # evaluate the loss\n",
        "    logits, loss = model(xb, yb)\n",
        "    optimizer.zero_grad(set_to_none=True)\n",
        "    loss.backward()\n",
        "    optimizer.step()\n",
        "\n",
        "print(loss.item())"
      ],
      "metadata": {
        "colab": {
          "base_uri": "https://localhost:8080/"
        },
        "id": "AVaRRtacNImg",
        "outputId": "c384f408-417d-46a2-c017-ba1e72bae223"
      },
      "execution_count": 111,
      "outputs": [
        {
          "output_type": "stream",
          "name": "stdout",
          "text": [
            "2.109943151473999\n"
          ]
        }
      ]
    },
    {
      "cell_type": "code",
      "source": [
        "# the loss 2.10, a large improvement compared with the 2.29 of single head\n",
        "idx = torch.zeros((1, 1), dtype=torch.long)\n",
        "print(decode(model.generate(idx, max_new_tokens=100)[0].tolist()))"
      ],
      "metadata": {
        "colab": {
          "base_uri": "https://localhost:8080/"
        },
        "id": "yLmkN5lENg1C",
        "outputId": "17dc385f-6b78-4338-c35c-ef78711f81ed"
      },
      "execution_count": 112,
      "outputs": [
        {
          "output_type": "stream",
          "name": "stdout",
          "text": [
            "\n",
            "The bestthend kin thea athe orsdfies rer, with as Roold to Pues?\n",
            " that Exor evauldie of pallubled'd \n"
          ]
        }
      ]
    },
    {
      "cell_type": "markdown",
      "source": [
        "## Feed Forward Network (simply MLP with ReLU) and model v4.5"
      ],
      "metadata": {
        "id": "ccmWhD19PA0u"
      }
    },
    {
      "cell_type": "markdown",
      "source": [
        "![截屏2024-04-07 下午11.37.37.png](data:image/png;base64,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)"
      ],
      "metadata": {
        "id": "rr-5p4_nbVrf"
      }
    },
    {
      "cell_type": "code",
      "source": [
        "class FeedForwardLayer(nn.Module):\n",
        "    def __init__(self, d_model):\n",
        "        super().__init__()\n",
        "        self.net = nn.Sequential(\n",
        "            nn.Linear(d_model, 4 * d_model),\n",
        "            nn.ReLU(),\n",
        "            nn.Linear(4 * d_model, d_model),\n",
        "        )\n",
        "\n",
        "    def forward(self, x):\n",
        "        return self.net(x)\n"
      ],
      "metadata": {
        "id": "DyCj1aL4NxRd"
      },
      "execution_count": 113,
      "outputs": []
    },
    {
      "cell_type": "code",
      "source": [
        "# v4.5 model, with multi-head self attention + feed forward net\n",
        "\n",
        "class BigramLanguageModel(nn.Module):\n",
        "\n",
        "    def __init__(self, vocab_size=65, embedding_dim=32, block_size=8):\n",
        "        super().__init__()\n",
        "\n",
        "        self.token_embedding_table = nn.Embedding(vocab_size, embedding_dim) # (num_embeddings, embedding_dim)\n",
        "        self.position_embedding_table = nn.Embedding(block_size, embedding_dim)\n",
        "        self.attention_layer = MultiHeadAttention(num_heads=4, head_size=8) # num_heads * head_size = embedding_dim\n",
        "        self.ffn = FeedForwardLayer(d_model=embedding_dim)\n",
        "        self.lm_head = nn.Linear(embedding_dim, vocab_size)\n",
        "\n",
        "    def forward(self, idx, targets=None):\n",
        "        # idx and targets are both (B,T) tensor of integers\n",
        "        B, T = idx.shape\n",
        "\n",
        "        token_emb = self.token_embedding_table(idx) # (B,T,embedding_dim)\n",
        "        pos_emb = self.position_embedding_table(torch.arange(T)) # (T, embedding_dim)\n",
        "        x = token_emb + pos_emb # (B,T,embedding_dim), broadcasting\n",
        "\n",
        "        x = self.attention_layer(x)# (B,T,embedding_dim) --> # (B,T,embedding_dim)\n",
        "\n",
        "        x = self.ffn(x)\n",
        "        logits = self.lm_head(x) # (B,T,vocab_size)\n",
        "\n",
        "        if targets is None:\n",
        "            loss = None\n",
        "        else:\n",
        "            B, T, C = logits.shape\n",
        "            logits = logits.view(B*T, C)\n",
        "            targets = targets.view(B*T)\n",
        "            loss = F.cross_entropy(logits, targets)\n",
        "\n",
        "        return logits, loss\n",
        "\n",
        "    def generate(self, idx, max_new_tokens):\n",
        "        # idx is (B, T) array of indices in the current context\n",
        "\n",
        "        for _ in range(max_new_tokens):\n",
        "            # crop idx/input sequence length\n",
        "            idx_corp = idx[:, -block_size:]\n",
        "\n",
        "            logits, loss = self(idx_corp) # logits: (B*T, C)\n",
        "\n",
        "            # focus only on the last time step, predict the next with only one token\n",
        "            logits = logits[:, -1, :] # becomes (B, C)\n",
        "\n",
        "            # apply softmax to get probabilities\n",
        "            probs = F.softmax(logits, dim=-1) # (B, C)\n",
        "\n",
        "            # sample from the distribution\n",
        "            idx_next = torch.multinomial(probs, num_samples=1) # (B, 1)\n",
        "\n",
        "            # append sampled index to the running sequence\n",
        "            idx = torch.cat((idx, idx_next), dim=1) # (B, T+1)\n",
        "\n",
        "        return idx\n",
        "\n",
        "model = BigramLanguageModel()"
      ],
      "metadata": {
        "id": "EHNSIqX6P17v"
      },
      "execution_count": 114,
      "outputs": []
    },
    {
      "cell_type": "code",
      "source": [
        "optimizer = torch.optim.AdamW(model.parameters(), lr=1e-3)\n",
        "\n",
        "batch_size = 32\n",
        "for steps in range(10000):\n",
        "    # sample a batch of data\n",
        "    xb, yb = get_batch('train')\n",
        "\n",
        "    # evaluate the loss\n",
        "    logits, loss = model(xb, yb)\n",
        "    optimizer.zero_grad(set_to_none=True)\n",
        "    loss.backward()\n",
        "    optimizer.step()\n",
        "\n",
        "print(loss.item())"
      ],
      "metadata": {
        "colab": {
          "base_uri": "https://localhost:8080/"
        },
        "id": "1fj42_e3QmXK",
        "outputId": "1e11e119-df26-43c9-97da-fbac81faf9a5"
      },
      "execution_count": 115,
      "outputs": [
        {
          "output_type": "stream",
          "name": "stdout",
          "text": [
            "1.9448461532592773\n"
          ]
        }
      ]
    },
    {
      "cell_type": "code",
      "source": [
        "idx = torch.zeros((1, 1), dtype=torch.long)\n",
        "print(decode(model.generate(idx, max_new_tokens=100)[0].tolist()))"
      ],
      "metadata": {
        "colab": {
          "base_uri": "https://localhost:8080/"
        },
        "id": "Yl5fozWnQpPA",
        "outputId": "f566ab92-4ee6-4e1d-ada4-7172210f7500"
      },
      "execution_count": 116,
      "outputs": [
        {
          "output_type": "stream",
          "name": "stdout",
          "text": [
            "\n",
            "\n",
            "Whums, my thee andly nothereted.\n",
            "\n",
            "Thy godly this, ans, thoren\n",
            "them con, prouths welpinfjence,\n",
            "By fo\n"
          ]
        }
      ]
    },
    {
      "cell_type": "markdown",
      "source": [
        "## Layer Norm and Batch Norm"
      ],
      "metadata": {
        "id": "30AgRwF0Q3zH"
      }
    },
    {
      "cell_type": "markdown",
      "source": [
        "2 optimizations to make the deep model trains well: 1. residual connection, 2. layer norm\n",
        "\n",
        "addition distributes gradient equally into 2 branches"
      ],
      "metadata": {
        "id": "lnLeRuTTWTbX"
      }
    },
    {
      "cell_type": "code",
      "source": [
        "class LayerNorm1d: # (used to be BatchNorm1d)\n",
        "\n",
        "    def __init__(self, dim, eps=1e-5, momentum=0.1):\n",
        "        self.eps = eps\n",
        "        self.gamma = torch.ones(dim)\n",
        "        self.beta = torch.zeros(dim)\n",
        "\n",
        "    def __call__(self, x):\n",
        "        # calculate the forward pass\n",
        "        xmean = x.mean(1, keepdim=True) # sample mean\n",
        "        xvar = x.var(1, keepdim=True) # sample variance\n",
        "\n",
        "        xhat = (x - xmean) / torch.sqrt(xvar + self.eps) # normalize to unit variance\n",
        "\n",
        "        self.out = self.gamma * xhat + self.beta\n",
        "        return self.out\n",
        "\n",
        "    def parameters(self):\n",
        "        return [self.gamma, self.beta]\n"
      ],
      "metadata": {
        "id": "eXUXi665gOCD"
      },
      "execution_count": 117,
      "outputs": []
    },
    {
      "cell_type": "code",
      "source": [
        "class BatchNorm1d:\n",
        "\n",
        "    def __init__(self, dim, eps=1e-5, momentum=0.1):\n",
        "        self.eps = eps\n",
        "        self.momentum = momentum\n",
        "        self.training = True\n",
        "\n",
        "        # parameters (trained with backprop)\n",
        "        self.gamma = torch.ones(dim)\n",
        "        self.beta = torch.zeros(dim)\n",
        "\n",
        "        # buffers (trained with a running 'momentum update')\n",
        "        self.running_mean = torch.zeros(dim)\n",
        "        self.running_var = torch.ones(dim)\n",
        "\n",
        "    def __call__(self, x):\n",
        "        # calculate the forward pass\n",
        "        if self.training:\n",
        "            xmean = x.mean(0, keepdim=True)  # batch mean\n",
        "            xvar = x.var(0, keepdim=True)  # batch variance\n",
        "        else:\n",
        "            xmean = self.running_mean\n",
        "            xvar = self.running_var\n",
        "\n",
        "        xhat = (x - xmean) / torch.sqrt(xvar + self.eps)  # normalize to unit variance\n",
        "        self.out = self.gamma * xhat + self.beta\n",
        "\n",
        "        # update the buffers\n",
        "        if self.training:\n",
        "            with torch.no_grad():\n",
        "                self.running_mean = (1 - self.momentum) * self.running_mean + self.momentum * xmean\n",
        "                self.running_var = (1 - self.momentum) * self.running_var + self.momentum * xvar\n",
        "\n",
        "        return self.out\n",
        "\n",
        "    def parameters(self):\n",
        "        return [self.gamma, self.beta]"
      ],
      "metadata": {
        "id": "hEiargukhwU9"
      },
      "execution_count": 118,
      "outputs": []
    },
    {
      "cell_type": "code",
      "source": [
        "torch.manual_seed(1337)\n",
        "ln = LayerNorm1d(100)\n",
        "x = torch.randn(32, 100) # batch size 32 of 100-dimensional vectors\n",
        "x = ln(x)\n",
        "print(x.shape)\n",
        "\n",
        "# mean,std of one feature across all batch inputs\n",
        "print(x[:,0].mean(), x[:,0].std())\n",
        "\n",
        "# mean,std of a single input from the batch, of its features\n",
        "print(x[0,:].mean(), x[0,:].std())"
      ],
      "metadata": {
        "colab": {
          "base_uri": "https://localhost:8080/"
        },
        "id": "dVpokAYHglmp",
        "outputId": "198f8616-6498-42ca-ab16-904aaf41cc16"
      },
      "execution_count": 119,
      "outputs": [
        {
          "output_type": "stream",
          "name": "stdout",
          "text": [
            "torch.Size([32, 100])\n",
            "tensor(0.1469) tensor(0.8803)\n",
            "tensor(-9.5367e-09) tensor(1.0000)\n"
          ]
        }
      ]
    },
    {
      "cell_type": "code",
      "source": [
        "torch.manual_seed(1337)\n",
        "bn = BatchNorm1d(100)\n",
        "x = torch.randn(32, 100) # batch size 32 of 100-dimensional vectors\n",
        "x = bn(x)\n",
        "print(x.shape)\n",
        "\n",
        "# mean,std of one feature across all batch inputs\n",
        "print(x[:,0].mean(), x[:,0].std())\n",
        "\n",
        "# mean,std of a single input from the batch, of its features\n",
        "print(x[0,:].mean(), x[0,:].std())"
      ],
      "metadata": {
        "colab": {
          "base_uri": "https://localhost:8080/"
        },
        "id": "NbIWhO06iHTw",
        "outputId": "b22b1285-7a53-4b11-fd0e-a03fa67352ae"
      },
      "execution_count": 120,
      "outputs": [
        {
          "output_type": "stream",
          "name": "stdout",
          "text": [
            "torch.Size([32, 100])\n",
            "tensor(7.4506e-09) tensor(1.0000)\n",
            "tensor(0.0411) tensor(1.0431)\n"
          ]
        }
      ]
    },
    {
      "cell_type": "markdown",
      "source": [
        "## Transformer Block, Residual Connection"
      ],
      "metadata": {
        "id": "gXIf1h-3igec"
      }
    },
    {
      "cell_type": "code",
      "source": [
        "class Block(nn.Module):\n",
        "    \"\"\"Transformer block\"\"\"\n",
        "\n",
        "    def __init__(self, d_model, num_heads):\n",
        "        super().__init__()\n",
        "\n",
        "        head_size = d_model // num_heads\n",
        "        self.attention_layer = MultiHeadAttention(num_heads, head_size)\n",
        "        self.ffn = FeedForwardLayer(d_model)\n",
        "        self.ln1 = nn.LayerNorm(d_model)\n",
        "        self.ln2 = nn.LayerNorm(d_model)\n",
        "\n",
        "    def forward(self, x):\n",
        "        # residual connections are added between all layers in the block\n",
        "\n",
        "        # one thing has changed from the original paper in the past several years (very limited though)\n",
        "        # in the original paper, Add & Norm stays together, LayerNorm(x + Sublayer(x))\n",
        "        # now layer norm are performed before passing into sublayer: x + Sublayer(LayerNorm(x))\n",
        "\n",
        "        x = self.ln1(x)\n",
        "        x = x + self.attention_layer(x)\n",
        "        x = self.ln2(x)\n",
        "        x = x + self.ffn(x)\n",
        "        return x\n"
      ],
      "metadata": {
        "id": "LIO4ZQwPRNBa"
      },
      "execution_count": 123,
      "outputs": []
    },
    {
      "cell_type": "code",
      "source": [
        "class BigramLanguageModel(nn.Module):\n",
        "\n",
        "    def __init__(self, vocab_size=65, embedding_dim=32, block_size=8):\n",
        "        super().__init__()\n",
        "\n",
        "        self.token_embedding_table = nn.Embedding(vocab_size, embedding_dim) # (num_embeddings, embedding_dim)\n",
        "        self.position_embedding_table = nn.Embedding(block_size, embedding_dim)\n",
        "\n",
        "        # self.attention_layer = MultiHeadAttention(num_heads=4, head_size=8) # num_heads * head_size = embedding_dim\n",
        "        # self.ffn = FeedForwardLayer(d_model=embedding_dim)\n",
        "        self.blocks = nn.Sequential(\n",
        "            Block(embedding_dim, num_heads=4),\n",
        "            Block(embedding_dim, num_heads=4),\n",
        "            Block(embedding_dim, num_heads=4),\n",
        "        )\n",
        "\n",
        "        self.ln_f = nn.LayerNorm(embedding_dim) # final layer norm before head\n",
        "        self.lm_head = nn.Linear(embedding_dim, vocab_size)\n",
        "\n",
        "    def forward(self, idx, targets=None):\n",
        "        # idx and targets are both (B,T) tensor of integers\n",
        "        B, T = idx.shape\n",
        "\n",
        "        token_emb = self.token_embedding_table(idx) # (B,T,embedding_dim)\n",
        "        pos_emb = self.position_embedding_table(torch.arange(T)) # (T, embedding_dim)\n",
        "        x = token_emb + pos_emb # (B,T,embedding_dim), broadcasting\n",
        "\n",
        "        x = self.blocks(x) # (B,T,embedding_dim) --> # (B,T,embedding_dim)\n",
        "\n",
        "        x = self.ln_f(x) # (B,T,embedding_dim)\n",
        "        logits = self.lm_head(x) # (B,T,vocab_size)\n",
        "\n",
        "        if targets is None:\n",
        "            loss = None\n",
        "        else:\n",
        "            B, T, C = logits.shape\n",
        "            logits = logits.view(B*T, C)\n",
        "            targets = targets.view(B*T)\n",
        "            loss = F.cross_entropy(logits, targets)\n",
        "\n",
        "        return logits, loss\n",
        "\n",
        "    def generate(self, idx, max_new_tokens):\n",
        "        # idx is (B, T) array of indices in the current context\n",
        "\n",
        "        for _ in range(max_new_tokens):\n",
        "            # crop idx/input sequence length\n",
        "            idx_corp = idx[:, -block_size:]\n",
        "\n",
        "            logits, loss = self(idx_corp) # logits: (B*T, C)\n",
        "\n",
        "            # focus only on the last time step, predict the next with only one token\n",
        "            logits = logits[:, -1, :] # becomes (B, C)\n",
        "\n",
        "            # apply softmax to get probabilities\n",
        "            probs = F.softmax(logits, dim=-1) # (B, C)\n",
        "\n",
        "            # sample from the distribution\n",
        "            idx_next = torch.multinomial(probs, num_samples=1) # (B, 1)\n",
        "\n",
        "            # append sampled index to the running sequence\n",
        "            idx = torch.cat((idx, idx_next), dim=1) # (B, T+1)\n",
        "\n",
        "        return idx\n",
        "\n",
        "model = BigramLanguageModel()"
      ],
      "metadata": {
        "id": "YuIB7hI_VUYS"
      },
      "execution_count": 126,
      "outputs": []
    },
    {
      "cell_type": "code",
      "source": [
        "optimizer = torch.optim.AdamW(model.parameters(), lr=1e-3)\n",
        "\n",
        "batch_size = 32\n",
        "for steps in range(10000):\n",
        "    # sample a batch of data\n",
        "    xb, yb = get_batch('train')\n",
        "\n",
        "    # evaluate the loss\n",
        "    logits, loss = model(xb, yb)\n",
        "    optimizer.zero_grad(set_to_none=True)\n",
        "    loss.backward()\n",
        "    optimizer.step()\n",
        "\n",
        "print(loss.item())"
      ],
      "metadata": {
        "colab": {
          "base_uri": "https://localhost:8080/"
        },
        "id": "I-meEkO7xkjj",
        "outputId": "62354722-3203-4afa-84eb-e443a3c00f62"
      },
      "execution_count": 127,
      "outputs": [
        {
          "output_type": "stream",
          "name": "stdout",
          "text": [
            "2.0192248821258545\n"
          ]
        }
      ]
    },
    {
      "cell_type": "code",
      "source": [
        "idx = torch.zeros((1, 1), dtype=torch.long)\n",
        "print(decode(model.generate(idx, max_new_tokens=100)[0].tolist()))"
      ],
      "metadata": {
        "colab": {
          "base_uri": "https://localhost:8080/"
        },
        "id": "s9vX91dNxqKy",
        "outputId": "c5b4615b-ea9f-457a-ade3-e67ecfdb4956"
      },
      "execution_count": 129,
      "outputs": [
        {
          "output_type": "stream",
          "name": "stdout",
          "text": [
            "\n",
            "\n",
            "NORCHHAP breed.\n",
            "For armfuilthings your had pa-rar is a\n",
            "as Que, le's beains lenvance choppar their w\n"
          ]
        }
      ]
    },
    {
      "cell_type": "markdown",
      "source": [
        "## Final Full Model, Scale Up, Add Dropout"
      ],
      "metadata": {
        "id": "axX5JYvZyyYI"
      }
    },
    {
      "cell_type": "markdown",
      "source": [
        "Dropout can be added right before the residual connection. Here dropouts are added:\n",
        "1. end of feed forward networl\n",
        "2. after calculating the self-attention scores, before multiple with value to get the weighted sum, to prevent some nodes to communicate\n",
        "3. after the linear transformation of the concatenation of self-attention layer outputs\n"
      ],
      "metadata": {
        "id": "3cmFvHJMzmn7"
      }
    },
    {
      "cell_type": "code",
      "source": [
        "import torch\n",
        "import torch.nn as nn\n",
        "from torch.nn import functional as F\n",
        "\n",
        "# hyperparameters\n",
        "batch_size = 16 # how many independent sequences will we process in parallel?\n",
        "block_size = 32 # what is the maximum context length for predictions?\n",
        "max_iters = 5000\n",
        "eval_interval = 100\n",
        "learning_rate = 1e-3\n",
        "device = 'cuda' if torch.cuda.is_available() else 'cpu'\n",
        "eval_iters = 200\n",
        "n_embd = 64\n",
        "n_head = 4\n",
        "n_layer = 4\n",
        "dropout = 0.0\n",
        "# ------------\n",
        "\n",
        "torch.manual_seed(1337)\n",
        "\n",
        "# wget https://raw.githubusercontent.com/karpathy/char-rnn/master/data/tinyshakespeare/input.txt\n",
        "with open('input.txt', 'r', encoding='utf-8') as f:\n",
        "    text = f.read()\n",
        "\n",
        "# here are all the unique characters that occur in this text\n",
        "chars = sorted(list(set(text)))\n",
        "vocab_size = len(chars)\n",
        "# create a mapping from characters to integers\n",
        "stoi = { ch:i for i,ch in enumerate(chars) }\n",
        "itos = { i:ch for i,ch in enumerate(chars) }\n",
        "encode = lambda s: [stoi[c] for c in s] # encoder: take a string, output a list of integers\n",
        "decode = lambda l: ''.join([itos[i] for i in l]) # decoder: take a list of integers, output a string\n",
        "\n",
        "# Train and test splits\n",
        "data = torch.tensor(encode(text), dtype=torch.long)\n",
        "n = int(0.9*len(data)) # first 90% will be train, rest val\n",
        "train_data = data[:n]\n",
        "val_data = data[n:]\n",
        "\n",
        "# data loading\n",
        "def get_batch(split):\n",
        "    # generate a small batch of data of inputs x and targets y\n",
        "    data = train_data if split == 'train' else val_data\n",
        "    ix = torch.randint(len(data) - block_size, (batch_size,))\n",
        "    x = torch.stack([data[i:i+block_size] for i in ix])\n",
        "    y = torch.stack([data[i+1:i+block_size+1] for i in ix])\n",
        "    x, y = x.to(device), y.to(device)\n",
        "    return x, y\n",
        "\n",
        "@torch.no_grad()\n",
        "def estimate_loss():\n",
        "    out = {}\n",
        "    model.eval()\n",
        "    for split in ['train', 'val']:\n",
        "        losses = torch.zeros(eval_iters)\n",
        "        for k in range(eval_iters):\n",
        "            X, Y = get_batch(split)\n",
        "            logits, loss = model(X, Y)\n",
        "            losses[k] = loss.item()\n",
        "        out[split] = losses.mean()\n",
        "    model.train()\n",
        "    return out\n",
        "\n",
        "class Head(nn.Module):\n",
        "    \"\"\" one head of self-attention \"\"\"\n",
        "\n",
        "    def __init__(self, head_size):\n",
        "        super().__init__()\n",
        "        self.key = nn.Linear(n_embd, head_size, bias=False)\n",
        "        self.query = nn.Linear(n_embd, head_size, bias=False)\n",
        "        self.value = nn.Linear(n_embd, head_size, bias=False)\n",
        "        self.register_buffer('tril', torch.tril(torch.ones(block_size, block_size)))\n",
        "\n",
        "        self.dropout = nn.Dropout(dropout)\n",
        "\n",
        "    def forward(self, x):\n",
        "        B,T,C = x.shape\n",
        "        k = self.key(x)   # (B,T,C)\n",
        "        q = self.query(x) # (B,T,C)\n",
        "        # compute attention scores (\"affinities\")\n",
        "        wei = q @ k.transpose(-2,-1) * C**-0.5 # (B, T, C) @ (B, C, T) -> (B, T, T)\n",
        "        wei = wei.masked_fill(self.tril[:T, :T] == 0, float('-inf')) # (B, T, T)\n",
        "        wei = F.softmax(wei, dim=-1) # (B, T, T)\n",
        "        wei = self.dropout(wei)\n",
        "        # perform the weighted aggregation of the values\n",
        "        v = self.value(x) # (B,T,C)\n",
        "        out = wei @ v # (B, T, T) @ (B, T, C) -> (B, T, C)\n",
        "        return out\n",
        "\n",
        "class MultiHeadAttention(nn.Module):\n",
        "    \"\"\" multiple heads of self-attention in parallel \"\"\"\n",
        "\n",
        "    def __init__(self, num_heads, head_size):\n",
        "        super().__init__()\n",
        "        self.heads = nn.ModuleList([Head(head_size) for _ in range(num_heads)])\n",
        "        self.proj = nn.Linear(n_embd, n_embd)\n",
        "        self.dropout = nn.Dropout(dropout)\n",
        "\n",
        "    def forward(self, x):\n",
        "        out = torch.cat([h(x) for h in self.heads], dim=-1)\n",
        "        out = self.dropout(self.proj(out))\n",
        "        return out\n",
        "\n",
        "class FeedFoward(nn.Module):\n",
        "    \"\"\" a simple linear layer followed by a non-linearity \"\"\"\n",
        "\n",
        "    def __init__(self, n_embd):\n",
        "        super().__init__()\n",
        "        self.net = nn.Sequential(\n",
        "            nn.Linear(n_embd, 4 * n_embd),\n",
        "            nn.ReLU(),\n",
        "            nn.Linear(4 * n_embd, n_embd),\n",
        "            nn.Dropout(dropout),\n",
        "        )\n",
        "\n",
        "    def forward(self, x):\n",
        "        return self.net(x)\n",
        "\n",
        "class Block(nn.Module):\n",
        "    \"\"\" Transformer block: communication followed by computation \"\"\"\n",
        "\n",
        "    def __init__(self, n_embd, n_head):\n",
        "        # n_embd: embedding dimension, n_head: the number of heads we'd like\n",
        "        super().__init__()\n",
        "        head_size = n_embd // n_head\n",
        "        self.sa = MultiHeadAttention(n_head, head_size)\n",
        "        self.ffwd = FeedFoward(n_embd)\n",
        "        self.ln1 = nn.LayerNorm(n_embd)\n",
        "        self.ln2 = nn.LayerNorm(n_embd)\n",
        "\n",
        "    def forward(self, x):\n",
        "        x = x + self.sa(self.ln1(x))\n",
        "        x = x + self.ffwd(self.ln2(x))\n",
        "        return x\n",
        "\n",
        "# super simple bigram model\n",
        "class BigramLanguageModel(nn.Module):\n",
        "\n",
        "    def __init__(self):\n",
        "        super().__init__()\n",
        "        # each token directly reads off the logits for the next token from a lookup table\n",
        "        self.token_embedding_table = nn.Embedding(vocab_size, n_embd)\n",
        "        self.position_embedding_table = nn.Embedding(block_size, n_embd)\n",
        "        self.blocks = nn.Sequential(*[Block(n_embd, n_head=n_head) for _ in range(n_layer)])\n",
        "        self.ln_f = nn.LayerNorm(n_embd) # final layer norm\n",
        "        self.lm_head = nn.Linear(n_embd, vocab_size)\n",
        "\n",
        "    def forward(self, idx, targets=None):\n",
        "        B, T = idx.shape\n",
        "\n",
        "        # idx and targets are both (B,T) tensor of integers\n",
        "        tok_emb = self.token_embedding_table(idx) # (B,T,C)\n",
        "        pos_emb = self.position_embedding_table(torch.arange(T, device=device)) # (T,C)\n",
        "        x = tok_emb + pos_emb # (B,T,C)\n",
        "        x = self.blocks(x) # (B,T,C)\n",
        "        x = self.ln_f(x) # (B,T,C)\n",
        "        logits = self.lm_head(x) # (B,T,vocab_size)\n",
        "\n",
        "        if targets is None:\n",
        "            loss = None\n",
        "        else:\n",
        "            B, T, C = logits.shape\n",
        "            logits = logits.view(B*T, C)\n",
        "            targets = targets.view(B*T)\n",
        "            loss = F.cross_entropy(logits, targets)\n",
        "\n",
        "        return logits, loss\n",
        "\n",
        "    def generate(self, idx, max_new_tokens):\n",
        "        # idx is (B, T) array of indices in the current context\n",
        "        for _ in range(max_new_tokens):\n",
        "            # crop idx to the last block_size tokens\n",
        "            idx_cond = idx[:, -block_size:]\n",
        "            # get the predictions\n",
        "            logits, loss = self(idx_cond)\n",
        "            # focus only on the last time step\n",
        "            logits = logits[:, -1, :] # becomes (B, C)\n",
        "            # apply softmax to get probabilities\n",
        "            probs = F.softmax(logits, dim=-1) # (B, C)\n",
        "            # sample from the distribution\n",
        "            idx_next = torch.multinomial(probs, num_samples=1) # (B, 1)\n",
        "            # append sampled index to the running sequence\n",
        "            idx = torch.cat((idx, idx_next), dim=1) # (B, T+1)\n",
        "        return idx\n",
        "\n",
        "model = BigramLanguageModel()\n",
        "m = model.to(device)\n",
        "# print the number of parameters in the model\n",
        "print(sum(p.numel() for p in m.parameters())/1e6, 'M parameters')\n",
        "\n",
        "# create a PyTorch optimizer\n",
        "optimizer = torch.optim.AdamW(model.parameters(), lr=learning_rate)\n",
        "\n",
        "for iter in range(max_iters):\n",
        "\n",
        "    # every once in a while evaluate the loss on train and val sets\n",
        "    if iter % eval_interval == 0 or iter == max_iters - 1:\n",
        "        losses = estimate_loss()\n",
        "        print(f\"step {iter}: train loss {losses['train']:.4f}, val loss {losses['val']:.4f}\")\n",
        "\n",
        "    # sample a batch of data\n",
        "    xb, yb = get_batch('train')\n",
        "\n",
        "    # evaluate the loss\n",
        "    logits, loss = model(xb, yb)\n",
        "    optimizer.zero_grad(set_to_none=True)\n",
        "    loss.backward()\n",
        "    optimizer.step()\n",
        "\n",
        "# generate from the model\n",
        "context = torch.zeros((1, 1), dtype=torch.long, device=device)\n",
        "print(decode(m.generate(context, max_new_tokens=2000)[0].tolist()))\n"
      ],
      "metadata": {
        "colab": {
          "base_uri": "https://localhost:8080/"
        },
        "id": "QqzvJCfmyO3I",
        "outputId": "19a2466b-99f0-4dc1-ab1f-cf18fdd40018"
      },
      "execution_count": 130,
      "outputs": [
        {
          "output_type": "stream",
          "name": "stdout",
          "text": [
            "0.209729 M parameters\n",
            "step 0: train loss 4.4116, val loss 4.4022\n",
            "step 100: train loss 2.6568, val loss 2.6670\n",
            "step 200: train loss 2.5090, val loss 2.5059\n",
            "step 300: train loss 2.4196, val loss 2.4338\n",
            "step 400: train loss 2.3504, val loss 2.3566\n",
            "step 500: train loss 2.2965, val loss 2.3129\n",
            "step 600: train loss 2.2410, val loss 2.2500\n",
            "step 700: train loss 2.2057, val loss 2.2191\n",
            "step 800: train loss 2.1633, val loss 2.1864\n",
            "step 900: train loss 2.1244, val loss 2.1510\n",
            "step 1000: train loss 2.1038, val loss 2.1308\n",
            "step 1100: train loss 2.0707, val loss 2.1197\n",
            "step 1200: train loss 2.0377, val loss 2.0800\n",
            "step 1300: train loss 2.0268, val loss 2.0650\n",
            "step 1400: train loss 1.9918, val loss 2.0356\n",
            "step 1500: train loss 1.9697, val loss 2.0293\n",
            "step 1600: train loss 1.9645, val loss 2.0499\n",
            "step 1700: train loss 1.9404, val loss 2.0129\n",
            "step 1800: train loss 1.9095, val loss 1.9951\n",
            "step 1900: train loss 1.9067, val loss 1.9855\n",
            "step 2000: train loss 1.8854, val loss 1.9948\n",
            "step 2100: train loss 1.8727, val loss 1.9766\n",
            "step 2200: train loss 1.8597, val loss 1.9631\n",
            "step 2300: train loss 1.8530, val loss 1.9516\n",
            "step 2400: train loss 1.8428, val loss 1.9464\n",
            "step 2500: train loss 1.8161, val loss 1.9424\n",
            "step 2600: train loss 1.8283, val loss 1.9406\n",
            "step 2700: train loss 1.8101, val loss 1.9322\n",
            "step 2800: train loss 1.8050, val loss 1.9233\n",
            "step 2900: train loss 1.8033, val loss 1.9289\n",
            "step 3000: train loss 1.7955, val loss 1.9216\n",
            "step 3100: train loss 1.7697, val loss 1.9184\n",
            "step 3200: train loss 1.7541, val loss 1.9088\n",
            "step 3300: train loss 1.7567, val loss 1.9034\n",
            "step 3400: train loss 1.7573, val loss 1.9000\n",
            "step 3500: train loss 1.7398, val loss 1.8925\n",
            "step 3600: train loss 1.7270, val loss 1.8869\n",
            "step 3700: train loss 1.7283, val loss 1.8814\n",
            "step 3800: train loss 1.7210, val loss 1.8918\n",
            "step 3900: train loss 1.7219, val loss 1.8732\n",
            "step 4000: train loss 1.7146, val loss 1.8576\n",
            "step 4100: train loss 1.7136, val loss 1.8720\n",
            "step 4200: train loss 1.7060, val loss 1.8653\n",
            "step 4300: train loss 1.7032, val loss 1.8499\n",
            "step 4400: train loss 1.7057, val loss 1.8656\n",
            "step 4500: train loss 1.6907, val loss 1.8477\n",
            "step 4600: train loss 1.6878, val loss 1.8371\n",
            "step 4700: train loss 1.6808, val loss 1.8415\n",
            "step 4800: train loss 1.6689, val loss 1.8457\n",
            "step 4900: train loss 1.6716, val loss 1.8415\n",
            "step 4999: train loss 1.6658, val loss 1.8275\n",
            "\n",
            "ROTCUMER:\n",
            "Tyburforth, bloody,\n",
            "WhIs migute: you duke I use list. WIthon of where's grande will! savist tought!\n",
            "Why room upwor alond, liegle. I hone, Iell thou sudd have then strue thus mind,\n",
            "His by blow, Virdom tow, glingien, yithre spees ssince them Those not.\n",
            "\n",
            "LUCIO:\n",
            "Look,----\n",
            "But thou sging them this my freceimmsed,\n",
            "By thou sovor conursion that thou sade but grove\n",
            "the tage encond:\n",
            "It will Rament me; an your touther,\n",
            "And havis like to-does, and little spright.\n",
            "\n",
            "GLOUCESTER:\n",
            "Rewards thou for Panfessira's bigguards such ways!\n",
            "What curfort his\n",
            "will havolss you, as I have the cervirs arled,\n",
            "Dear my love and pitace unto duly son.\n",
            "\n",
            "Secome:\n",
            "Offolk, even thy whose my late all that you by jotly us belies!\n",
            "Lord, we a-montencry! I\n",
            "\n",
            "SLARNE:\n",
            "Day, mave from out prrive And orculing\n",
            "What confess, temimelyour and stropt;\n",
            "Secumfospet the gatieus I'll that confence-sting,\n",
            "But; man't, Rolget\n",
            "would garnion'd live in which, you, prothre?\n",
            "\n",
            "CORIOLANUS:\n",
            "What bonum stravoing, not out be seemmed with\n",
            "That the boly noll to.\n",
            "Bently, which in on my not tomberven why, fortune,\n",
            "And that wark you, banot thus orl'ld groves viles.\n",
            "\n",
            "PUMNIUS:\n",
            "It thou addow less, proth-straing.\n",
            "Mutwing your contrant stomfe, whom they\n",
            "is by this famestle; and of the loves my not Mercarcious to the stord; thesoo, in thus my nome are:\n",
            "Will fuch, have there enplience your gone, ho's,\n",
            "And gentleman, my beged lind to be am\n",
            "in That ant:\n",
            "In I sugner murded! I play's,\n",
            "If not sume the confity will reasur slord:\n",
            "That get because at that his say\n",
            "and to beepts guarst you lom if then.\n",
            "\n",
            "MENEN MARGARUS:\n",
            "I but aftelence! made yoour never.\n",
            "\n",
            "KING RICHARD II:\n",
            "Who too near?\n",
            "\n",
            "LORDIUS:\n",
            "Or as madaw brird, tou thee?\n",
            "\n",
            "Sirightly the haste's beforempt.\n",
            "\n",
            "First:\n",
            "Is though.\n",
            "Fell, whose toes with requmpts, up I make\n",
            "Here figUS verean that I will, by the wateon.\n",
            "\n",
            "MOWIDIUS:\n",
            "How, while, more is in meep.\n",
            "twan be the fless this countrens platcar merperter sure make Giventled,\n",
            "At not your must to reason togs,\n",
            "And what you gue;--\n",
            "\n",
            "RUKE ESFiren; gravent,\n",
            "Apol\n"
          ]
        }
      ]
    },
    {
      "cell_type": "code",
      "source": [],
      "metadata": {
        "id": "Jt1tvn3WzVKc"
      },
      "execution_count": null,
      "outputs": []
    }
  ]
}